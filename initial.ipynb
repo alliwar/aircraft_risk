{
 "cells": [
  {
   "cell_type": "markdown",
   "id": "557cef12",
   "metadata": {},
   "source": [
    "# Something something big data on plane crashes woooo yeeeaaaaaaaaaah!!\n",
    "                                            ##### Jupyter Notebook coded by Allison Ward, Rick Lataille, and Anthony Mansion"
   ]
  },
  {
   "cell_type": "code",
   "execution_count": 2,
   "id": "44a6f7d3",
   "metadata": {},
   "outputs": [
    {
     "name": "stderr",
     "output_type": "stream",
     "text": [
      "/var/folders/r7/dkcrrdg1099bt6wjv8tr4trc0000gn/T/ipykernel_45245/2519711930.py:2: DeprecationWarning: \n",
      "Pyarrow will become a required dependency of pandas in the next major release of pandas (pandas 3.0),\n",
      "(to allow more performant data types, such as the Arrow string type, and better interoperability with other libraries)\n",
      "but was not found to be installed on your system.\n",
      "If this would cause problems for you,\n",
      "please provide us feedback at https://github.com/pandas-dev/pandas/issues/54466\n",
      "        \n",
      "  import pandas as pd\n"
     ]
    }
   ],
   "source": [
    "#Import the modules we need\n",
    "import pandas as pd\n",
    "import numpy as np\n",
    "\n",
    "# And this is the big data that we will be using\n",
    "df = pd.read_csv('Aviation_Data.csv', low_memory=False)"
   ]
  },
  {
   "cell_type": "markdown",
   "id": "918b458f",
   "metadata": {},
   "source": [
    "## Here, we will be dropping columns we see no need for, the information isn't relevant."
   ]
  },
  {
   "cell_type": "code",
   "execution_count": 3,
   "id": "f7af1f71",
   "metadata": {},
   "outputs": [
    {
     "name": "stdout",
     "output_type": "stream",
     "text": [
      "90348 items.\n"
     ]
    }
   ],
   "source": [
    "# Drop the columns we know that we don't need\n",
    "dropped_columns = ['Schedule', 'Report.Status', 'Publication.Date']\n",
    "df.drop(columns = dropped_columns, inplace=True)\n",
    "print(f\"{len(df)} items.\")"
   ]
  },
  {
   "cell_type": "markdown",
   "id": "a4fdab3f",
   "metadata": {},
   "source": [
    "## As for the columns we DO need, we filter some columns for the information we need."
   ]
  },
  {
   "cell_type": "code",
   "execution_count": 4,
   "id": "1253b532",
   "metadata": {},
   "outputs": [
    {
     "name": "stdout",
     "output_type": "stream",
     "text": [
      "15829 items.\n"
     ]
    }
   ],
   "source": [
    "# Convert date column to datetime, then filter event dates to include 2013 and later\n",
    "df['Event.Date'] = pd.to_datetime(df['Event.Date'])\n",
    "df_filtered = df.loc[df['Event.Date'] >= '2013-01-01']\n",
    "print(f\"{len(df_filtered)} items.\")"
   ]
  },
  {
   "cell_type": "code",
   "execution_count": 5,
   "id": "74dd9a43",
   "metadata": {},
   "outputs": [
    {
     "name": "stdout",
     "output_type": "stream",
     "text": [
      "13262 items.\n"
     ]
    }
   ],
   "source": [
    "# Filter aircraft categories for Airplanes only\n",
    "df_filtered = df_filtered.loc[df_filtered['Aircraft.Category'] == 'Airplane']\n",
    "print(f\"{len(df_filtered)} items.\")"
   ]
  },
  {
   "cell_type": "code",
   "execution_count": 6,
   "id": "bddf0ed4",
   "metadata": {},
   "outputs": [
    {
     "name": "stdout",
     "output_type": "stream",
     "text": [
      "11726 items.\n"
     ]
    }
   ],
   "source": [
    "# Exclude Amateur-built planes\n",
    "df_filtered = df_filtered.loc[df_filtered['Amateur.Built'] != 'Yes']\n",
    "print(f\"{len(df_filtered)} items.\")"
   ]
  },
  {
   "cell_type": "code",
   "execution_count": 7,
   "id": "8b4fb956",
   "metadata": {},
   "outputs": [
    {
     "name": "stdout",
     "output_type": "stream",
     "text": [
      "9465 items.\n"
     ]
    }
   ],
   "source": [
    "# Include only events that happened in the United States or US Territories\n",
    "allowed_countries = ['United States']\n",
    "df_filtered = df_filtered.loc[df_filtered['Country'].isin(allowed_countries)]\n",
    "print(f\"{len(df_filtered)} items.\")"
   ]
  },
  {
   "cell_type": "code",
   "execution_count": 8,
   "id": "cb27cf2e",
   "metadata": {},
   "outputs": [
    {
     "name": "stdout",
     "output_type": "stream",
     "text": [
      "7320 items.\n"
     ]
    }
   ],
   "source": [
    "# Exclude certain identified purposes as irrelevant to our stakeholder\n",
    "allowed_purposes = ['Personal', np.nan, 'Business', 'Executive/corporate', \\\n",
    "                    'Positioning', 'Other Work Use', 'Ferry', 'Unknown', 'Public Aircraft - Federal', \\\n",
    "                   'Public Aircraft - State', 'Public Aircraft - Local', 'Public Aircraft', 'PUBS']\n",
    "df_filtered = df_filtered.loc[df_filtered['Purpose.of.flight'].isin(allowed_purposes)]\n",
    "print(f\"{len(df_filtered)} items.\")"
   ]
  },
  {
   "cell_type": "code",
   "execution_count": 9,
   "id": "6337f9d9",
   "metadata": {},
   "outputs": [],
   "source": [
    "df_filtered.to_csv('Filtered_Aviation_Data.csv', index=False)"
   ]
  },
  {
   "cell_type": "code",
   "execution_count": 10,
   "id": "e94650c7-3362-45fb-887e-6f74cb188e5f",
   "metadata": {},
   "outputs": [],
   "source": [
    "#Converting latitude and longitude from Degrees, Minutes, and Seconds to Decimal Degrees\n",
    "\n",
    "df_filtered.dropna(subset=['Latitude', 'Longitude'], inplace=True)\n",
    "\n",
    "def convert_latitude(x):\n",
    "    degrees = float(x[:2])\n",
    "    minutes = float(x[2:4])\n",
    "    seconds = float(x[4:6])\n",
    "    return degrees + minutes/60 + seconds/3600\n",
    "\n",
    "df_filtered[\"new_lats\"] = df_filtered['Latitude'].map(convert_latitude)\n",
    "\n",
    "def convert_longitude(x):\n",
    "    degrees = float(x[:3])\n",
    "    minutes = float(x[3:5])\n",
    "    seconds = float(x[5:7])\n",
    "    return -(degrees + minutes/60 + seconds/3600)\n",
    "\n",
    "df_filtered[\"new_longs\"] = df_filtered['Longitude'].map(convert_longitude)"
   ]
  },
  {
   "cell_type": "code",
   "execution_count": 11,
   "id": "21d425a6-420a-4f7e-9bd2-1916e92d0156",
   "metadata": {},
   "outputs": [],
   "source": [
    "# Separating the city and state from the Location column and creating a new column for the state (from https://www.kaggle.com/code/tetianalys605/aviation-accidents-python-analysis)\n",
    "\n",
    "df_filtered['State'] = df_filtered['Location'].str.split(',').str[1]"
   ]
  },
  {
   "cell_type": "code",
   "execution_count": 12,
   "id": "993f4371-3594-4c2c-9438-986885b62cc3",
   "metadata": {},
   "outputs": [
    {
     "data": {
      "text/plain": [
       "State\n",
       "AK    706\n",
       "CA    678\n",
       "TX    589\n",
       "FL    500\n",
       "AZ    235\n",
       "CO    230\n",
       "GA    223\n",
       "WA    202\n",
       "ID    187\n",
       "NC    184\n",
       "NY    170\n",
       "PA    169\n",
       "OR    158\n",
       "OH    154\n",
       "MI    153\n",
       "Name: count, dtype: int64"
      ]
     },
     "execution_count": 12,
     "metadata": {},
     "output_type": "execute_result"
    }
   ],
   "source": [
    "#Getting the top 15 states with the most incidents in our data set\n",
    "df_filtered['State'].value_counts(ascending = False).head(15)"
   ]
  },
  {
   "cell_type": "code",
   "execution_count": 13,
   "id": "223eae6f-f42b-4f16-baee-f70edcada339",
   "metadata": {},
   "outputs": [
    {
     "data": {
      "text/plain": [
       "Weather.Condition\n",
       "VMC    6456\n",
       "IMC     448\n",
       "Unk      95\n",
       "Name: count, dtype: int64"
      ]
     },
     "execution_count": 13,
     "metadata": {},
     "output_type": "execute_result"
    }
   ],
   "source": [
    "# Taking a look at weather conditions\n",
    "df_filtered['Weather.Condition'].value_counts()"
   ]
  },
  {
   "cell_type": "code",
   "execution_count": 39,
   "id": "ad60cc9d-d361-49ae-99b5-c06b36a2a2cd",
   "metadata": {},
   "outputs": [
    {
     "data": {
      "text/plain": [
       "State\n",
       "AK    636\n",
       "CA    602\n",
       "TX    517\n",
       "FL    453\n",
       "AZ    216\n",
       "CO    201\n",
       "GA    191\n",
       "WA    179\n",
       "ID    176\n",
       "NC    159\n",
       "PA    152\n",
       "NY    146\n",
       "OR    141\n",
       "OH    139\n",
       "MI    134\n",
       "Name: count, dtype: int64"
      ]
     },
     "execution_count": 39,
     "metadata": {},
     "output_type": "execute_result"
    }
   ],
   "source": [
    "# Determining the states with the highest number of incidents under VMC conditions\n",
    "\n",
    "state_VMC = df_filtered['State'].loc[df_filtered['Weather.Condition'] == 'VMC']\n",
    "top_15_state_VMC = state_VMC.value_counts().head(15)\n",
    "top_15_state_VMC"
   ]
  },
  {
   "cell_type": "code",
   "execution_count": 38,
   "id": "0dbafc8c-8711-4448-8c1f-d9480689372b",
   "metadata": {},
   "outputs": [
    {
     "data": {
      "text/plain": [
       "State\n",
       "TX    39\n",
       "AK    33\n",
       "FL    26\n",
       "CA    23\n",
       "GA    23\n",
       "NC    18\n",
       "TN    16\n",
       "NY    15\n",
       "IL    14\n",
       "CO    14\n",
       "MN    13\n",
       "VA    12\n",
       "WI    12\n",
       "MI    12\n",
       "MO    11\n",
       "Name: count, dtype: int64"
      ]
     },
     "execution_count": 38,
     "metadata": {},
     "output_type": "execute_result"
    }
   ],
   "source": [
    "# Determining the states with the highest number of incidents under IMC conditions\n",
    "state_IMC = df_filtered['State'].loc[df_filtered['Weather.Condition'] == 'IMC']\n",
    "top_15_state_IMC = state_IMC.value_counts().head(15)\n",
    "top_15_state_IMC"
   ]
  },
  {
   "cell_type": "code",
   "execution_count": 16,
   "id": "e06d009f-1b8b-4ce2-ac5f-5559abb5dc0b",
   "metadata": {},
   "outputs": [
    {
     "data": {
      "text/plain": [
       "State\n",
       "CA    149\n",
       "TX    101\n",
       "FL     91\n",
       "AK     73\n",
       "GA     55\n",
       "CO     37\n",
       "NC     34\n",
       "AZ     33\n",
       "NY     30\n",
       "OH     28\n",
       "MI     28\n",
       "TN     26\n",
       "NM     25\n",
       "OR     25\n",
       "IL     25\n",
       "Name: count, dtype: int64"
      ]
     },
     "execution_count": 16,
     "metadata": {},
     "output_type": "execute_result"
    }
   ],
   "source": [
    "# Looking at fatality counts per state\n",
    "state_fatality = df_filtered['State'].loc[df_filtered['Injury.Severity'] == 'Fatal']\n",
    "state_fatality_top_15 = state_fatality.value_counts().head(15)\n",
    "state_fatality_top_15"
   ]
  },
  {
   "cell_type": "code",
   "execution_count": 17,
   "id": "6a747f20-c901-486f-a18d-4bfb0d58e83c",
   "metadata": {},
   "outputs": [
    {
     "data": {
      "text/plain": [
       "State\n",
       "AK    633\n",
       "CA    529\n",
       "TX    488\n",
       "FL    409\n",
       "AZ    202\n",
       "CO    193\n",
       "WA    178\n",
       "GA    168\n",
       "ID    164\n",
       "PA    152\n",
       "NC    150\n",
       "NY    140\n",
       "OR    133\n",
       "OH    126\n",
       "MI    125\n",
       "Name: count, dtype: int64"
      ]
     },
     "execution_count": 17,
     "metadata": {},
     "output_type": "execute_result"
    }
   ],
   "source": [
    "# Looking at non-fatality counts per state\n",
    "state_non_fatality = df_filtered['State'].loc[df_filtered['Injury.Severity'] != 'Fatal']\n",
    "state_non_fatality_top_15 = state_non_fatality.value_counts().head(15)\n",
    "state_non_fatality_top_15"
   ]
  },
  {
   "cell_type": "code",
   "execution_count": 57,
   "id": "004d59db-6b93-434c-ba5d-a5a144bc7e91",
   "metadata": {},
   "outputs": [],
   "source": [
    "#Switching Event Date column to pandas date time\n",
    "df_filtered['Event.Date'] = pd.to_datetime(df_filtered['Event.Date'])"
   ]
  },
  {
   "cell_type": "code",
   "execution_count": 58,
   "id": "e2b1d88b-5557-405e-8288-72a6df9d9a9a",
   "metadata": {},
   "outputs": [],
   "source": [
    "# Creating a new column with Day of Week\n",
    "df_filtered['Day_Of_Week'] = df['Event.Date'].dt.day_name()"
   ]
  },
  {
   "cell_type": "code",
   "execution_count": 35,
   "id": "7cae4482-f397-4c5b-9840-0bcac861fafb",
   "metadata": {},
   "outputs": [
    {
     "data": {
      "text/plain": [
       "Day_Of_Week\n",
       "Saturday     19.003968\n",
       "Sunday       16.951703\n",
       "Friday       14.694213\n",
       "Thursday     13.175537\n",
       "Monday       12.888220\n",
       "Wednesday    12.464085\n",
       "Tuesday      10.822274\n",
       "Name: proportion, dtype: float64"
      ]
     },
     "execution_count": 35,
     "metadata": {},
     "output_type": "execute_result"
    }
   ],
   "source": [
    "# Finding percentages of value counts in the Day_of_Week column\n",
    "day_of_week = df_filtered['Day_Of_Week'].value_counts(normalize = True) * 100\n",
    "day_of_week"
   ]
  },
  {
   "cell_type": "code",
   "execution_count": 60,
   "id": "f323cb3e-71c2-4f88-aeb1-214021538cc6",
   "metadata": {},
   "outputs": [],
   "source": [
    "import matplotlib.pyplot as plt\n",
    "%matplotlib inline\n",
    "import seaborn as sns"
   ]
  },
  {
   "cell_type": "code",
   "execution_count": 61,
   "id": "7edc4e26-de2a-45ae-aed9-fe0e9652e17f",
   "metadata": {},
   "outputs": [
    {
     "data": {
      "image/png": "[encoded data removed]",
      "text/plain": [
       "<Figure size 640x480 with 1 Axes>"
      ]
     },
     "metadata": {},
     "output_type": "display_data"
    }
   ],
   "source": [
    "# Plotting Number of Incidents per Day of the Week\n",
    "plot = sns.countplot(x = 'Day_Of_Week', color = 'b', data = df_filtered)\n",
    "plot.set(xlabel = 'Day of Week', ylabel = 'Number of Incidents', title = 'Number of Incidents Per Day');"
   ]
  },
  {
   "cell_type": "code",
   "execution_count": null,
   "id": "566792c2-ef8e-4aa7-8862-3174031d24b9",
   "metadata": {},
   "outputs": [],
   "source": []
  }
 ],
 "metadata": {
  "kernelspec": {
   "display_name": "Python (learn-env)",
   "language": "python",
   "name": "learn-env"
  },
  "language_info": {
   "codemirror_mode": {
    "name": "ipython",
    "version": 3
   },
   "file_extension": ".py",
   "mimetype": "text/x-python",
   "name": "python",
   "nbconvert_exporter": "python",
   "pygments_lexer": "ipython3",
   "version": "3.9.18"
  }
 },
 "nbformat": 4,
 "nbformat_minor": 5
}
