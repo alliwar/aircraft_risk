{
 "cells": [
  {
   "cell_type": "markdown",
   "id": "940ed68a",
   "metadata": {},
   "source": [
    "  # Analyzing, Filtering, and Cleaning Aviation Database for the Safest Plane\n",
    "                                          Jupyter Notebook coded by Allison Ward, Rick Lataille, and Anthony Mansion"
   ]
  },
  {
   "cell_type": "markdown",
   "id": "f75486aa",
   "metadata": {},
   "source": [
    "### As usual, imported pandas to manage big data, as well as numpy for future statistical analysis"
   ]
  },
  {
   "cell_type": "code",
   "execution_count": 55,
   "id": "d16767fc",
   "metadata": {},
   "outputs": [],
   "source": [
    "#Import the modules we need\n",
    "import pandas as pd\n",
    "import numpy as np\n",
    "\n",
    "# And this is the big data that we will be using\n",
    "df = pd.read_csv('Aviation_Data.csv', low_memory=False)"
   ]
  },
  {
   "cell_type": "markdown",
   "id": "9352a214",
   "metadata": {},
   "source": [
    "### Here, we will be dropping columns we see no need for, the information isn't relevant. These columns are dropped because the information it provides has no use in finding the results our stakeholder is looking for."
   ]
  },
  {
   "cell_type": "code",
   "execution_count": 56,
   "id": "3c96a51a",
   "metadata": {},
   "outputs": [
    {
     "name": "stdout",
     "output_type": "stream",
     "text": [
      "90348 items.\n"
     ]
    }
   ],
   "source": [
    "# Drop the columns we know that we don't need\n",
    "dropped_columns = ['Schedule', 'Report.Status', 'Publication.Date']\n",
    "df.drop(columns = dropped_columns, inplace=True)\n",
    "print(f\"{len(df)} items.\")"
   ]
  },
  {
   "cell_type": "markdown",
   "id": "9bfe65fa",
   "metadata": {},
   "source": [
    "### Now looking at the rest of the columns, we filter some columns for the information we need. We leave the original \"df\" alone and instead make another variable to hold our filtered information. The ways we filtered were: filtering for rows with data from the last 10 years + turned into date-time, and also created days of the week using those, filter data for aircrafts to airplanes only since that's the data we will be using, exclude the rows for planes that are amateur built since they... kind of screw the results we need over, filtered even more plane uses to continue providing relevant data adjusted to our stakeholder, and lastly filtering for the United States only. Filtering for the U.S. only is mainly because the rows that aren't in here aren't filled and can't tell of anything, and it even the same case for the U.S. territories that aren't between the Altantic and Pacific Oceans. Dropped from about 90,000 items to 7,000."
   ]
  },
  {
   "cell_type": "code",
   "execution_count": 57,
   "id": "939129c4",
   "metadata": {},
   "outputs": [
    {
     "name": "stdout",
     "output_type": "stream",
     "text": [
      "15829 items.\n",
      "13262 items.\n",
      "11726 items.\n",
      "9497 items.\n",
      "7320 items.\n"
     ]
    },
    {
     "name": "stderr",
     "output_type": "stream",
     "text": [
      "C:\\Users\\mansi\\AppData\\Local\\Temp\\ipykernel_11640\\4153400819.py:7: SettingWithCopyWarning: \n",
      "A value is trying to be set on a copy of a slice from a DataFrame.\n",
      "Try using .loc[row_indexer,col_indexer] = value instead\n",
      "\n",
      "See the caveats in the documentation: https://pandas.pydata.org/pandas-docs/stable/user_guide/indexing.html#returning-a-view-versus-a-copy\n",
      "  df_filtered['Day_Of_Week'] = df['Event.Date'].dt.day_name()\n"
     ]
    }
   ],
   "source": [
    "# Convert date column to datetime, then filter event dates to include 2013 and later\n",
    "df['Event.Date'] = pd.to_datetime(df['Event.Date'])\n",
    "df_filtered = df.loc[df['Event.Date'] >= '2013-01-01']\n",
    "print(f\"{len(df_filtered)} items.\")\n",
    "\n",
    "# Creating a new column with Day of Week\n",
    "df_filtered['Day_Of_Week'] = df['Event.Date'].dt.day_name()\n",
    "\n",
    "# Filter aircraft categories for Airplanes only\n",
    "df_filtered = df_filtered.loc[df_filtered['Aircraft.Category'] == 'Airplane']\n",
    "print(f\"{len(df_filtered)} items.\")\n",
    "\n",
    "# Exclude Amateur-built planes\n",
    "df_filtered = df_filtered.loc[df_filtered['Amateur.Built'] != 'Yes']\n",
    "print(f\"{len(df_filtered)} items.\")\n",
    "\n",
    "# Exclude certain identified purposes as irrelevant to our stakeholder\n",
    "allowed_purposes = ['Personal', np.nan, 'Business', 'Executive/corporate', \\\n",
    "                    'Positioning', 'Other Work Use', 'Ferry', 'Unknown', 'Public Aircraft - Federal', \\\n",
    "                   'Public Aircraft - State', 'Public Aircraft - Local', 'Public Aircraft', 'PUBS']\n",
    "df_filtered = df_filtered.loc[df_filtered['Purpose.of.flight'].isin(allowed_purposes)]\n",
    "print(f\"{len(df_filtered)} items.\")\n",
    "\n",
    "# Include only events that happened in the United States or US Territories\n",
    "allowed_countries = ['United States']\n",
    "df_filtered = df_filtered.loc[df_filtered['Country'].isin(allowed_countries)]\n",
    "print(f\"{len(df_filtered)} items.\")\n",
    "\n",
    "# Drop even more columns that are no longer useful\n",
    "obsolete_columns = ['Event.Id', 'Country', 'Aircraft.Category', 'Registration.Number', 'Broad.phase.of.flight']\n",
    "df_filtered.drop(columns = obsolete_columns, inplace=True)"
   ]
  },
  {
   "cell_type": "markdown",
   "id": "1bda1e8f",
   "metadata": {},
   "source": [
    "## Alriight, now that we've done as much filtering we believe we need, we move on to cleaning the remaining columns.  And if you threw the CSV into Tableau, you'd notice that-- even though we filtered for the United States specifically-- some of the points in the map are NOT in the United States, or even U.S. territories. So the cell block below was to try and limit the lies the data was telling us, or just lazy humans being human or something. "
   ]
  },
  {
   "cell_type": "code",
   "execution_count": 58,
   "id": "25e5899d",
   "metadata": {},
   "outputs": [
    {
     "name": "stdout",
     "output_type": "stream",
     "text": [
      "7307 items.\n",
      "7302 items.\n"
     ]
    }
   ],
   "source": [
    "# Filter for foreign locations not noted as foreign using the 'OF' state code in Location\n",
    "df_filtered['State_Code'] = df_filtered['Location'].str.slice(-2)\n",
    "df_filtered = df_filtered.loc[df_filtered['State_Code'] != 'OF']\n",
    "print(f\"{len(df_filtered)} items.\")\n",
    "\n",
    "# Drop rows that are missing latitude coordinates (also captures missing Longitude)\n",
    "df_filtered.dropna(subset=['Latitude'], inplace=True)\n",
    "print(f\"{len(df_filtered)} items.\")\n",
    "\n",
    "#Converting latitude and longitude from Degrees, Minutes, and Seconds to Decimal Degrees\n",
    "\n",
    "df_filtered.dropna(subset=['Latitude', 'Longitude'], inplace=True)\n",
    "\n",
    "def convert_latitude(x):\n",
    "    degrees = float(x[:2])\n",
    "    minutes = float(x[2:4])\n",
    "    seconds = float(x[4:6])\n",
    "    return degrees + minutes/60 + seconds/3600\n",
    "\n",
    "df_filtered[\"new_lats\"] = df_filtered['Latitude'].map(convert_latitude)\n",
    "\n",
    "def convert_longitude(x):\n",
    "    degrees = float(x[:3])\n",
    "    minutes = float(x[3:5])\n",
    "    seconds = float(x[5:7])\n",
    "    return -(degrees + minutes/60 + seconds/3600)\n",
    "\n",
    "df_filtered[\"new_longs\"] = df_filtered['Longitude'].map(convert_longitude)"
   ]
  },
  {
   "cell_type": "markdown",
   "id": "11a09a01",
   "metadata": {},
   "source": [
    "### As you may know, Python is case sensitive, and the data does NOT reflect that. And because of that, things that should be grouped together will be grouped seperatively based on one just starting with \"A\" instead of \"a.\" So it's time to fix that. :) The original_makes variable wasn't useful in the long run, it was just as a way to see how many duplicates were left and things like that. Lamba function was used to try and clean the names. I know its a LOT of pretty much the same lines, but knowing the natural language processing or any other methods is currently beyond our levels, so unfortunately we have to do what we had to do. Lol"
   ]
  },
  {
   "cell_type": "code",
   "execution_count": 59,
   "id": "947f8e7c",
   "metadata": {},
   "outputs": [],
   "source": [
    "# Record original makes for later comparison\n",
    "Original_makes = len(df_filtered['Make'].unique())"
   ]
  },
  {
   "cell_type": "code",
   "execution_count": 60,
   "id": "ac4e9870",
   "metadata": {},
   "outputs": [],
   "source": [
    "# These map functions will clean the 'Make' column, A-C\n",
    "df_filtered['Make'] = df_filtered['Make'].map(lambda x: \"Aerofab\" if x.lower().strip()[:7]==\"aerofab\" else x)\n",
    "df_filtered['Make'] = df_filtered['Make'].map(lambda x: \"Aeroprakt\" if x.lower().strip()[:9]==\"aeroprakt\" else x)\n",
    "df_filtered['Make'] = df_filtered['Make'].map(lambda x: \"Aeropro\" if x.lower().strip()[:7]==\"aeropro\" else x)\n",
    "df_filtered['Make'] = df_filtered['Make'].map(lambda x: \"Aerostar\" if x.lower().strip()[:8]==\"aerostar\" else x)\n",
    "df_filtered['Make'] = df_filtered['Make'].map(lambda x: \"Aerostar\" if x.lower().strip()[:3]==\"s c\" else x)\n",
    "df_filtered['Make'] = df_filtered['Make'].map(lambda x: \"Aerotek\" if x.lower().strip()[:7]==\"aerotek\" else x)\n",
    "df_filtered['Make'] = df_filtered['Make'].map(lambda x: \"Air Tractor\" if x.lower().strip()[:11]==\"air tractor\" else x)\n",
    "df_filtered['Make'] = df_filtered['Make'].map(lambda x: \"Airbus\" if x.lower().strip()[:6]==\"airbus\" else x)\n",
    "df_filtered['Make'] = df_filtered['Make'].map(lambda x: \"Airbus\" if x.lower().strip()[:5]==\"fouga\" else x)\n",
    "df_filtered['Make'] = df_filtered['Make'].map(lambda x: \"Aircraft Mfg\" if x.lower().strip()[:12]==\"aircraft mfg\" else x)\n",
    "df_filtered['Make'] = df_filtered['Make'].map(lambda x: \"American Champion\" if x.lower().strip()[:17]==\"american champion\" else x)\n",
    "df_filtered['Make'] = df_filtered['Make'].map(lambda x: \"American Legend\" if x.lower().strip()[:15]==\"american legend\" else x)\n",
    "df_filtered['Make'] = df_filtered['Make'].map(lambda x: \"Arion\" if x.lower().strip()[:5]==\"arion\" else x)\n",
    "df_filtered['Make'] = df_filtered['Make'].map(lambda x: \"Aviat\" if x.lower().strip()[:5]==\"aviat\" else x)\n",
    "df_filtered['Make'] = df_filtered['Make'].map(lambda x: \"Avions\" if x.lower().strip()[:6]==\"avions\" else x)\n",
    "df_filtered['Make'] = df_filtered['Make'].map(lambda x: \"BAE\" if x.lower().strip()[:3]==\"bae\" else x)\n",
    "df_filtered['Make'] = df_filtered['Make'].map(lambda x: \"Boeing\" if x.lower().strip()[:6]==\"boeing\" else x)\n",
    "df_filtered['Make'] = df_filtered['Make'].map(lambda x: \"Boeing\" if x.lower().strip()[:9]==\"mcdonnell\" else x)\n",
    "df_filtered['Make'] = df_filtered['Make'].map(lambda x: \"Boeing\" if x.lower().strip()[:7]==\"douglas\" else x)\n",
    "df_filtered['Make'] = df_filtered['Make'].map(lambda x: \"Boeing\" if x.lower().strip()[:8]==\"rockwell\" else x)\n",
    "df_filtered['Make'] = df_filtered['Make'].map(lambda x: \"Bombardier\" if x.lower().strip()[:10]==\"bombardier\" else x)\n",
    "df_filtered['Make'] = df_filtered['Make'].map(lambda x: \"Bombardier\" if x.lower().strip()[:5]==\"gates\" else x)\n",
    "df_filtered['Make'] = df_filtered['Make'].map(lambda x: \"Bombardier\" if x.lower().strip()[:7]==\"learjet\" else x)\n",
    "df_filtered['Make'] = df_filtered['Make'].map(lambda x: \"Bombardier\" if x.lower().strip()[:8]==\"canadair\" else x)\n",
    "df_filtered['Make'] = df_filtered['Make'].map(lambda x: \"BAE\" if x.lower().strip()[:12]==\"british aero\" else x)\n",
    "df_filtered['Make'] = df_filtered['Make'].map(lambda x: \"Britten-Norman\" if x.lower().strip()[:7]==\"britten\" else x)\n",
    "df_filtered['Make'] = df_filtered['Make'].map(lambda x: \"Bucker\" if x.lower().strip()[:6]==\"bucker\" else x)\n",
    "df_filtered['Make'] = df_filtered['Make'].map(lambda x: \"Cirrus\" if x.lower().strip()[:6]==\"cirrus\" else x)\n",
    "df_filtered['Make'] = df_filtered['Make'].map(lambda x: \"Convair\" if x.lower().strip()[:12]==\"consolidated\" else x)\n",
    "df_filtered['Make'] = df_filtered['Make'].map(lambda x: \"CubCrafters\" if x.lower().strip()[:3]==\"cub\" else x)\n",
    "df_filtered['Make'] = df_filtered['Make'].map(lambda x: \"Czech\" if x.lower().strip()[:5]==\"czech\" else x)"
   ]
  },
  {
   "cell_type": "code",
   "execution_count": 61,
   "id": "1e9ade10",
   "metadata": {},
   "outputs": [],
   "source": [
    "# These map functions will clean the 'Make' column, D-N\n",
    "df_filtered['Make'] = df_filtered['Make'].map(lambda x: \"Daher\" if x.lower().strip()[:3]==\"s.o\" else x)\n",
    "df_filtered['Make'] = df_filtered['Make'].map(lambda x: \"Daher\" if x.lower().strip()[:3]==\"soc\" else x)\n",
    "df_filtered['Make'] = df_filtered['Make'].map(lambda x: \"Dassault\" if x.lower().strip()[:8]==\"dassault\" else x)\n",
    "df_filtered['Make'] = df_filtered['Make'].map(lambda x: \"De Havilland\" if x.lower().strip()[:6]==\"de hav\" else x)\n",
    "df_filtered['Make'] = df_filtered['Make'].map(lambda x: \"De Havilland\" if x.lower().strip()[:5]==\"dehav\" else x)\n",
    "df_filtered['Make'] = df_filtered['Make'].map(lambda x: \"Diamond\" if x.lower().strip()[:7]==\"diamond\" else x)\n",
    "df_filtered['Make'] = df_filtered['Make'].map(lambda x: \"Eclipse\" if x.lower().strip()[:7]==\"eclipse\" else x)\n",
    "df_filtered['Make'] = df_filtered['Make'].map(lambda x: \"Embraer\" if x.lower().strip()[:7]==\"embraer\" else x)\n",
    "df_filtered['Make'] = df_filtered['Make'].map(lambda x: \"Evektor\" if x.lower().strip()[:7]==\"evektor\" else x)\n",
    "df_filtered['Make'] = df_filtered['Make'].map(lambda x: \"Evolution\" if x.lower().strip()[:9]==\"evolution\" else x)\n",
    "df_filtered['Make'] = df_filtered['Make'].map(lambda x: \"Extra\" if x.lower().strip()[:5]==\"extra\" else x)\n",
    "df_filtered['Make'] = df_filtered['Make'].map(lambda x: \"Fairchild\" if x.lower().strip()[:9]==\"fairchild\" else x)\n",
    "df_filtered['Make'] = df_filtered['Make'].map(lambda x: \"Fantasy Air\" if x.lower().strip()[:7]==\"fantasy\" else x)\n",
    "df_filtered['Make'] = df_filtered['Make'].map(lambda x: \"Flight Design\" if x.lower().strip()[:8]==\"flight d\" else x)\n",
    "df_filtered['Make'] = df_filtered['Make'].map(lambda x: \"Flightstar\" if x.lower().strip()[:7]==\"flights\" else x)\n",
    "df_filtered['Make'] = df_filtered['Make'].map(lambda x: \"FPNA\" if x.lower().strip()[:4]==\"fpna\" else x)\n",
    "df_filtered['Make'] = df_filtered['Make'].map(lambda x: \"Glasair\" if x.lower().strip()[:7]==\"glasair\" else x)\n",
    "df_filtered['Make'] = df_filtered['Make'].map(lambda x: \"Golden Circle\" if x.lower().strip()[:8]==\"golden c\" else x)\n",
    "df_filtered['Make'] = df_filtered['Make'].map(lambda x: \"Gulfstream\" if x.lower().strip()[:10]==\"gulfstream\" else x)\n",
    "df_filtered['Make'] = df_filtered['Make'].map(lambda x: \"Gulfstream\" if x.lower().strip()[:3]==\"iai\" else x)\n",
    "df_filtered['Make'] = df_filtered['Make'].map(lambda x: \"Honda\" if x.lower().strip()[:5]==\"honda\" else x)\n",
    "df_filtered['Make'] = df_filtered['Make'].map(lambda x: \"Jabiru\" if x.lower().strip()[:6]==\"jabiru\" else x)\n",
    "df_filtered['Make'] = df_filtered['Make'].map(lambda x: \"Lancair\" if x.lower().strip()[:7]==\"lancair\" else x)\n",
    "df_filtered['Make'] = df_filtered['Make'].map(lambda x: \"Maxair\" if x.lower().strip()[:6]==\"maxair\" else x)\n",
    "df_filtered['Make'] = df_filtered['Make'].map(lambda x: \"Meyers\" if x.lower().strip()[:6]==\"meyers\" else x)\n",
    "df_filtered['Make'] = df_filtered['Make'].map(lambda x: \"Mooney\" if x.lower().strip()[:6]==\"mooney\" else x)\n",
    "df_filtered['Make'] = df_filtered['Make'].map(lambda x: \"M-Squared\" if x.lower().strip()[:9]==\"m-squared\" else x)\n",
    "df_filtered['Make'] = df_filtered['Make'].map(lambda x: \"Nanchang\" if x.lower().strip()[:8]==\"nanchang\" else x)\n",
    "df_filtered['Make'] = df_filtered['Make'].map(lambda x: \"Northrop Grumman\" if x.lower().strip()[:7]==\"grumman\" else x)\n",
    "df_filtered['Make'] = df_filtered['Make'].map(lambda x: \"Northrop Grumman\" if x.lower().strip()[:8]==\"northrop\" else x)\n",
    "df_filtered['Make'] = df_filtered['Make'].map(lambda x: \"North American\" if x.lower().strip()[:8]==\"north am\" else x)\n",
    "df_filtered['Make'] = df_filtered['Make'].map(lambda x: \"North Wing\" if x.lower().strip()[:7]==\"north w\" else x)\n",
    "df_filtered['Make'] = df_filtered['Make'].map(lambda x: \"North Wing\" if x.lower().strip()[:6]==\"northw\" else x)"
   ]
  },
  {
   "cell_type": "code",
   "execution_count": 62,
   "id": "5cb9d91f",
   "metadata": {},
   "outputs": [],
   "source": [
    "# These map functions will clean the 'Make' column, N-Z\n",
    "df_filtered['Make'] = df_filtered['Make'].map(lambda x: \"Orlican\" if x.lower().strip()[:7]==\"orlican\" else x)\n",
    "df_filtered['Make'] = df_filtered['Make'].map(lambda x: \"Phantom\" if x.lower().strip()[:7]==\"phantom\" else x)\n",
    "df_filtered['Make'] = df_filtered['Make'].map(lambda x: \"Pilatus\" if x.lower().strip()[:7]==\"pilatus\" else x)\n",
    "df_filtered['Make'] = df_filtered['Make'].map(lambda x: \"Piper\" if x.lower().strip()[:9]==\"new piper\" else x)\n",
    "df_filtered['Make'] = df_filtered['Make'].map(lambda x: \"Piper\" if x.lower().strip()[:5]==\"piper\" else x)\n",
    "df_filtered['Make'] = df_filtered['Make'].map(lambda x: \"Pipistrel\" if x.lower().strip()[:4]==\"pipi\" else x)\n",
    "df_filtered['Make'] = df_filtered['Make'].map(lambda x: \"Pitts\" if x.lower().strip()[:5]==\"pitts\" else x)\n",
    "df_filtered['Make'] = df_filtered['Make'].map(lambda x: \"Pzl Okecie\" if x.lower().strip()[:3]==\"pzl\" else x)\n",
    "df_filtered['Make'] = df_filtered['Make'].map(lambda x: \"Quad City\" if x.lower().strip()[:4]==\"quad\" else x)\n",
    "df_filtered['Make'] = df_filtered['Make'].map(lambda x: \"Quest\" if x.lower().strip()[:5]==\"quest\" else x)\n",
    "df_filtered['Make'] = df_filtered['Make'].map(lambda x: \"Quicksilver\" if x.lower().strip()[:5]==\"quick\" else x)\n",
    "df_filtered['Make'] = df_filtered['Make'].map(lambda x: \"Rans\" if x.lower().strip()[:4]==\"rans\" else x)\n",
    "df_filtered['Make'] = df_filtered['Make'].map(lambda x: \"Remos\" if x.lower().strip()[:5]==\"remos\" else x)\n",
    "df_filtered['Make'] = df_filtered['Make'].map(lambda x: \"Rockwell\" if x.lower().strip()[:8]==\"rockwell\" else x)\n",
    "df_filtered['Make'] = df_filtered['Make'].map(lambda x: \"Ryan\" if x.lower().strip()[:4]==\"ryan\" else x)\n",
    "df_filtered['Make'] = df_filtered['Make'].map(lambda x: \"Scoda\" if x.lower().strip()[:5]==\"scoda\" else x)\n",
    "df_filtered['Make'] = df_filtered['Make'].map(lambda x: \"Short\" if x.lower().strip()[:5]==\"short\" else x)\n",
    "df_filtered['Make'] = df_filtered['Make'].map(lambda x: \"Stearman\" if x.lower().strip()[:8]==\"stearman\" else x)\n",
    "df_filtered['Make'] = df_filtered['Make'].map(lambda x: \"Taylorcraft\" if x.lower().strip()[:7]==\"taylorc\" else x)\n",
    "df_filtered['Make'] = df_filtered['Make'].map(lambda x: \"Textron\" if x.lower().strip()[:6]==\"cessna\" else x)\n",
    "df_filtered['Make'] = df_filtered['Make'].map(lambda x: \"Textron\" if x.lower().strip()[:4]==\"rath\" else x)\n",
    "df_filtered['Make'] = df_filtered['Make'].map(lambda x: \"Textron\" if x.lower().strip()[:4]==\"rayt\" else x)\n",
    "df_filtered['Make'] = df_filtered['Make'].map(lambda x: \"Textron\" if x.lower().strip()[:7]==\"textron\" else x)\n",
    "df_filtered['Make'] = df_filtered['Make'].map(lambda x: \"Textron\" if x.lower().strip()[:5]==\"beech\" else x)\n",
    "df_filtered['Make'] = df_filtered['Make'].map(lambda x: \"Textron\" if x.lower().strip()[:6]==\"hawker\" else x)\n",
    "df_filtered['Make'] = df_filtered['Make'].map(lambda x: \"TL Ultralight\" if x.lower().strip()[:2]==\"tl\" else x)\n",
    "df_filtered['Make'] = df_filtered['Make'].map(lambda x: \"Vans\" if x.lower().strip()[:4]==\"vans\" else x)\n",
    "df_filtered['Make'] = df_filtered['Make'].map(lambda x: \"Waco\" if x.lower().strip()[:4]==\"waco\" else x)\n",
    "df_filtered['Make'] = df_filtered['Make'].map(lambda x: \"Zlin\" if x.lower().strip()[:4]==\"zlin\" else x)"
   ]
  },
  {
   "cell_type": "code",
   "execution_count": 63,
   "id": "bdad6cdc",
   "metadata": {},
   "outputs": [
    {
     "name": "stdout",
     "output_type": "stream",
     "text": [
      "The original 670 makes have been reduced to 433 makes.\n"
     ]
    }
   ],
   "source": [
    "# Show the amount of consolidation in makes\n",
    "print(f\"The original {Original_makes} makes have been reduced to {len(df_filtered['Make'].unique())} makes.\")"
   ]
  },
  {
   "cell_type": "markdown",
   "id": "83b2acd4",
   "metadata": {},
   "source": [
    "### Getting rid of whack \"NaN\", \"None\", or \"Uknown\" by appropriately filling in values for data usage"
   ]
  },
  {
   "cell_type": "code",
   "execution_count": 64,
   "id": "21ff957a",
   "metadata": {},
   "outputs": [],
   "source": [
    "# Change \"NaN\" to 'None' or 'Unknown', as appropriate\n",
    "df_filtered['Injury.Severity'].fillna('None', inplace=True)\n",
    "df_filtered['Aircraft.damage'].fillna('Unknown', inplace=True)\n",
    "df_filtered['Purpose.of.flight'].fillna('Unknown', inplace=True)\n",
    "df_filtered['Engine.Type'].fillna('Unknown', inplace=True)\n",
    "df_filtered['FAR.Description'].fillna('Unknown', inplace=True)\n",
    "df_filtered['Number.of.Engines'].fillna('Unknown', inplace=True)\n",
    "\n",
    "# This will convert all 'unknown' type entries to 'Unknown' in the Air.carrier field\n",
    "df_filtered['Air.carrier'].fillna('Unknown', inplace=True)\n",
    "df_filtered['Air.carrier'] = df_filtered['Air.carrier'].astype(str).map(\n",
    "    lambda x: \"Unknown\" if x.lower().strip()[:3]==\"unk\" else x)\n",
    "\n",
    "# This will convert all 'unknown' type entries to 'Unknown' in the Weather.Condition field\n",
    "df_filtered['Weather.Condition'].fillna('Unknown', inplace=True)\n",
    "df_filtered['Weather.Condition'] = df_filtered['Weather.Condition'].astype(str).map(\n",
    "    lambda x: \"Unknown\" if x.lower().strip()[:3]==\"unk\" else x)"
   ]
  },
  {
   "cell_type": "markdown",
   "id": "3252d8d5",
   "metadata": {},
   "source": [
    "### All of these lines have completely different functions, and some is more filtering than cleaning, or neither, but had to make a little more moves to get even MORE of the data comparisons we wanted to include."
   ]
  },
  {
   "cell_type": "code",
   "execution_count": 65,
   "id": "72ea396a",
   "metadata": {},
   "outputs": [],
   "source": [
    "# Put all Makes into Title case, for readability\n",
    "df_filtered['Make'] = df_filtered['Make'].map(lambda x: x.title())\n",
    "\n",
    "# Use dt functions to extract year and month and create new columns\n",
    "df_filtered['Year'] = df['Event.Date'].dt.year\n",
    "df_filtered['Month'] = df['Event.Date'].dt.month\n",
    "\n",
    "# Create a new column to simplify the large jet analysis\n",
    "separate_large_jets = [\"Airbus\", \"Boeing\", \"Embraer\"]\n",
    "df_filtered['Large_Jets'] = df_filtered['Make'].map(lambda x: \"Other\" if x not in separate_large_jets else x)\n",
    "\n",
    "# Create a new column to simplify the large jet analysis\n",
    "separate_small_jets = [\"Bombardier\", \"Dassault\", \"Gulfstream\", \"Honda\", \"Textron\"]\n",
    "df_filtered['Small_Jets'] = df_filtered['Make'].map(lambda x: \"Other\" if x not in separate_small_jets else x)\n",
    "\n",
    "# Create a new column summing fatal and serious injuries\n",
    "df_filtered['Major_Injuries'] = df_filtered['Total.Fatal.Injuries'] + df_filtered['Total.Serious.Injuries']"
   ]
  },
  {
   "cell_type": "markdown",
   "id": "16b780f4",
   "metadata": {},
   "source": [
    "### With all that filtered data, saved it to a new csv file for an even easier time making visualizations of the data since all the info we need won't be surrounded by the other  random information. We also did this instead of overwriting the original \"just in case\", y'know? Just in case we wanted to undo something, we could simply overwrite the csv and throw it back into Tableau real fast."
   ]
  },
  {
   "cell_type": "code",
   "execution_count": 66,
   "id": "b4dfc8d5",
   "metadata": {},
   "outputs": [],
   "source": [
    "# Write to a new CSV file/overwrites CSV file\n",
    "df_filtered.to_csv('Filtered_Aviation_Data.csv', index=False)"
   ]
  },
  {
   "cell_type": "markdown",
   "id": "10fa9749",
   "metadata": {},
   "source": [
    "## ACTUALLY just random garbage below 😡 (No really, literally everything this markdown was honestly just a waste of time and energy. Smh  They were most likely another idea we had where when coded partway, we realized that Tableau literally exists or maybe just scrapped it because of reason x, with maybe an extra y or z to it)"
   ]
  },
  {
   "cell_type": "markdown",
   "id": "55cf52ff",
   "metadata": {},
   "source": [
    "### The Tests of Hell. (Honestly, this whole part is irrelevant and would have been 1,000 times easier and waaaay more efficient rather than \"hard-coding\" it. 😔 But the lines have already written, so we just had to see it through...) The test here is grabbing many random categories, and using those to make comparisons between other random categories. I was going to then import matplotlib to begin making visualizations, but I already realized how unefficient I was working and the time I was wasting when I could have just thrown the csv in Tableau... "
   ]
  },
  {
   "cell_type": "code",
   "execution_count": 67,
   "id": "ad780740",
   "metadata": {},
   "outputs": [],
   "source": [
    "# In this cell block below, I will do even further filtering to whittle down numbers and find the best plane\n",
    "# The filters will be based on how safe they are, so how less they repeat by finding: the number of engines that\n",
    "# appear the least, the type of engine that appears the least, non-fatal injuries, substantial damage to plane\n",
    "\n",
    "# First, made a copy of the current filtered datamframe to filter even more\n",
    "# Filtering by injuries to see comparisons between resullts\n",
    "Fatal_Inj = df.loc[df['Total.Fatal.Injuries'] > 0]\n",
    "Serious_Inj = df.loc[df['Total.Serious.Injuries'] > 0]\n",
    "Minor_Inj = df.loc[df['Total.Minor.Injuries'] > 0]\n",
    "Uninjured = df.loc[(df['Total.Uninjured'] > 0) & (df['Total.Minor.Injuries'] == 0)] \n",
    "\n",
    "# Hmm... lets see the difference between substantial damage, too\n",
    "Sub_Damage = df.loc[df['Aircraft.damage'] == 'Substantial'] # (Substantial Damage)\n",
    "Destroyed = df.loc[df['Aircraft.damage'] == 'Destroyed'] # (Destroyed planes)\n",
    "Minor_Damage = df.loc[df['Aircraft.damage'] == 'Minor']            \n",
    "\n",
    "# Looking at the difference between data using engine types as well\n",
    "Reciprocating_Eng = df.loc[df['Engine.Type'] == 'Reciprocating'] \n",
    "Turbo_Shaft = df.loc[df['Engine.Type'] == 'Turbo Shaft']\n",
    "Turbo_Prop = df.loc[df['Engine.Type'] == 'Turbo Prop']\n",
    "Turbo_Fan = df.loc[df['Engine.Type'] == 'Turbo Fan']\n",
    "Turbo_Jet = df.loc[df['Engine.Type'] == 'Turbo Jet']\n",
    "Geared_Turbofan = df.loc[df['Engine.Type'] == 'Geared Turbofan']\n",
    "Electric = df.loc[df['Engine.Type'] == 'Electric']\n",
    "LR = df.loc[df['Engine.Type'] == 'LR'] \n",
    "NONE = df.loc[df['Engine.Type'] == 'NONE'] \n",
    "Hyrbrid_Rocket = df.loc[df['Engine.Type'] == 'Hyrbrid Rocket'] \n",
    "UNK = df.loc[df['Engine.Type'] == 'UNK']\n",
    "\n",
    "# Seeing if there are different results using the number of engines, too\n",
    "NO_ENGINES = df.loc[df['Number.of.Engines'] == 0] #??!!\n",
    "One_Engine = df.loc[df['Number.of.Engines'] == 1] \n",
    "Two_Engines = df.loc[df['Number.of.Engines'] == 2] \n",
    "Three_Engines = df.loc[df['Number.of.Engines'] == 3] \n",
    "Four_Engines = df.loc[df['Number.of.Engines'] == 4] "
   ]
  },
  {
   "cell_type": "markdown",
   "id": "09ed17eb",
   "metadata": {},
   "source": [
    "### Now at this point is when we WOULD HAVE imported matplotlib, but we already realized a few lines into the cell block above that we were just wasting time and that it'd be better to just use Tableau. But below, I made a third corny variable (which is why the name is very bad lol) to become the dataframe that will be used for comparisons. But in order to compare each, I have to reset the new variable by making it the old dataframe each time or it will just get smaller and smaller. (Just realized we didn't even use those variables above, haha...😭)"
   ]
  },
  {
   "cell_type": "code",
   "execution_count": 68,
   "id": "4f93f500",
   "metadata": {},
   "outputs": [
    {
     "data": {
      "text/html": [
       "<div>\n",
       "<style scoped>\n",
       "    .dataframe tbody tr th:only-of-type {\n",
       "        vertical-align: middle;\n",
       "    }\n",
       "\n",
       "    .dataframe tbody tr th {\n",
       "        vertical-align: top;\n",
       "    }\n",
       "\n",
       "    .dataframe thead th {\n",
       "        text-align: right;\n",
       "    }\n",
       "</style>\n",
       "<table border=\"1\" class=\"dataframe\">\n",
       "  <thead>\n",
       "    <tr style=\"text-align: right;\">\n",
       "      <th></th>\n",
       "      <th>Investigation.Type</th>\n",
       "      <th>Accident.Number</th>\n",
       "      <th>Event.Date</th>\n",
       "      <th>Location</th>\n",
       "      <th>Latitude</th>\n",
       "      <th>Longitude</th>\n",
       "      <th>Airport.Code</th>\n",
       "      <th>Airport.Name</th>\n",
       "      <th>Injury.Severity</th>\n",
       "      <th>Aircraft.damage</th>\n",
       "      <th>...</th>\n",
       "      <th>Weather.Condition</th>\n",
       "      <th>Day_Of_Week</th>\n",
       "      <th>State_Code</th>\n",
       "      <th>new_lats</th>\n",
       "      <th>new_longs</th>\n",
       "      <th>Year</th>\n",
       "      <th>Month</th>\n",
       "      <th>Large_Jets</th>\n",
       "      <th>Small_Jets</th>\n",
       "      <th>Major_Injuries</th>\n",
       "    </tr>\n",
       "  </thead>\n",
       "  <tbody>\n",
       "    <tr>\n",
       "      <th>73204</th>\n",
       "      <td>Accident</td>\n",
       "      <td>CEN13CA129</td>\n",
       "      <td>2013-01-11</td>\n",
       "      <td>Alexandria, MN</td>\n",
       "      <td>455145N</td>\n",
       "      <td>0095240W</td>\n",
       "      <td>AXN</td>\n",
       "      <td>Alexindria Municipal Airport</td>\n",
       "      <td>Non-Fatal</td>\n",
       "      <td>Substantial</td>\n",
       "      <td>...</td>\n",
       "      <td>IMC</td>\n",
       "      <td>Friday</td>\n",
       "      <td>MN</td>\n",
       "      <td>45.862500</td>\n",
       "      <td>-9.877778</td>\n",
       "      <td>2013.0</td>\n",
       "      <td>1.0</td>\n",
       "      <td>Other</td>\n",
       "      <td>Textron</td>\n",
       "      <td>0.0</td>\n",
       "    </tr>\n",
       "    <tr>\n",
       "      <th>73286</th>\n",
       "      <td>Accident</td>\n",
       "      <td>ERA13LA129</td>\n",
       "      <td>2013-02-07</td>\n",
       "      <td>Winston-Salem, NC</td>\n",
       "      <td>003681N</td>\n",
       "      <td>0801319W</td>\n",
       "      <td>INT</td>\n",
       "      <td>Smith Reynolds Airport</td>\n",
       "      <td>Non-Fatal</td>\n",
       "      <td>Substantial</td>\n",
       "      <td>...</td>\n",
       "      <td>VMC</td>\n",
       "      <td>Thursday</td>\n",
       "      <td>NC</td>\n",
       "      <td>0.622500</td>\n",
       "      <td>-80.221944</td>\n",
       "      <td>2013.0</td>\n",
       "      <td>2.0</td>\n",
       "      <td>Other</td>\n",
       "      <td>Textron</td>\n",
       "      <td>0.0</td>\n",
       "    </tr>\n",
       "    <tr>\n",
       "      <th>73313</th>\n",
       "      <td>Accident</td>\n",
       "      <td>CEN13CA162</td>\n",
       "      <td>2013-02-14</td>\n",
       "      <td>Abilene, TX</td>\n",
       "      <td>323031N</td>\n",
       "      <td>0993626W</td>\n",
       "      <td>NaN</td>\n",
       "      <td>NaN</td>\n",
       "      <td>Non-Fatal</td>\n",
       "      <td>Substantial</td>\n",
       "      <td>...</td>\n",
       "      <td>VMC</td>\n",
       "      <td>Thursday</td>\n",
       "      <td>TX</td>\n",
       "      <td>32.508611</td>\n",
       "      <td>-99.607222</td>\n",
       "      <td>2013.0</td>\n",
       "      <td>2.0</td>\n",
       "      <td>Other</td>\n",
       "      <td>Textron</td>\n",
       "      <td>0.0</td>\n",
       "    </tr>\n",
       "    <tr>\n",
       "      <th>73321</th>\n",
       "      <td>Accident</td>\n",
       "      <td>ANC13CA023</td>\n",
       "      <td>2013-02-16</td>\n",
       "      <td>Dutch Harbor, AK</td>\n",
       "      <td>535334N</td>\n",
       "      <td>1663225W</td>\n",
       "      <td>PADU</td>\n",
       "      <td>Unalaska</td>\n",
       "      <td>Non-Fatal</td>\n",
       "      <td>Substantial</td>\n",
       "      <td>...</td>\n",
       "      <td>VMC</td>\n",
       "      <td>Saturday</td>\n",
       "      <td>AK</td>\n",
       "      <td>53.892778</td>\n",
       "      <td>-166.540278</td>\n",
       "      <td>2013.0</td>\n",
       "      <td>2.0</td>\n",
       "      <td>Other</td>\n",
       "      <td>Other</td>\n",
       "      <td>0.0</td>\n",
       "    </tr>\n",
       "    <tr>\n",
       "      <th>73329</th>\n",
       "      <td>Accident</td>\n",
       "      <td>WPR13LA132</td>\n",
       "      <td>2013-02-17</td>\n",
       "      <td>Casper, WY</td>\n",
       "      <td>425417N</td>\n",
       "      <td>1062731W</td>\n",
       "      <td>CPR</td>\n",
       "      <td>Casper/Natrona County Int'l</td>\n",
       "      <td>Non-Fatal</td>\n",
       "      <td>Substantial</td>\n",
       "      <td>...</td>\n",
       "      <td>VMC</td>\n",
       "      <td>Sunday</td>\n",
       "      <td>WY</td>\n",
       "      <td>42.904722</td>\n",
       "      <td>-106.458611</td>\n",
       "      <td>2013.0</td>\n",
       "      <td>2.0</td>\n",
       "      <td>Other</td>\n",
       "      <td>Textron</td>\n",
       "      <td>0.0</td>\n",
       "    </tr>\n",
       "    <tr>\n",
       "      <th>...</th>\n",
       "      <td>...</td>\n",
       "      <td>...</td>\n",
       "      <td>...</td>\n",
       "      <td>...</td>\n",
       "      <td>...</td>\n",
       "      <td>...</td>\n",
       "      <td>...</td>\n",
       "      <td>...</td>\n",
       "      <td>...</td>\n",
       "      <td>...</td>\n",
       "      <td>...</td>\n",
       "      <td>...</td>\n",
       "      <td>...</td>\n",
       "      <td>...</td>\n",
       "      <td>...</td>\n",
       "      <td>...</td>\n",
       "      <td>...</td>\n",
       "      <td>...</td>\n",
       "      <td>...</td>\n",
       "      <td>...</td>\n",
       "      <td>...</td>\n",
       "    </tr>\n",
       "    <tr>\n",
       "      <th>90275</th>\n",
       "      <td>Accident</td>\n",
       "      <td>CEN23LA052</td>\n",
       "      <td>2022-11-22</td>\n",
       "      <td>Denton, TX</td>\n",
       "      <td>292548N</td>\n",
       "      <td>1005924W</td>\n",
       "      <td>NaN</td>\n",
       "      <td>NaN</td>\n",
       "      <td>Non-Fatal</td>\n",
       "      <td>Substantial</td>\n",
       "      <td>...</td>\n",
       "      <td>Unknown</td>\n",
       "      <td>Tuesday</td>\n",
       "      <td>TX</td>\n",
       "      <td>29.430000</td>\n",
       "      <td>-100.990000</td>\n",
       "      <td>2022.0</td>\n",
       "      <td>11.0</td>\n",
       "      <td>Other</td>\n",
       "      <td>Textron</td>\n",
       "      <td>0.0</td>\n",
       "    </tr>\n",
       "    <tr>\n",
       "      <th>90293</th>\n",
       "      <td>Accident</td>\n",
       "      <td>CEN23LA056</td>\n",
       "      <td>2022-11-29</td>\n",
       "      <td>Batesville, AR</td>\n",
       "      <td>354334N</td>\n",
       "      <td>0913851W</td>\n",
       "      <td>BVX</td>\n",
       "      <td>Batesville Regional Airport</td>\n",
       "      <td>Minor</td>\n",
       "      <td>Substantial</td>\n",
       "      <td>...</td>\n",
       "      <td>IMC</td>\n",
       "      <td>Tuesday</td>\n",
       "      <td>AR</td>\n",
       "      <td>35.726111</td>\n",
       "      <td>-91.647500</td>\n",
       "      <td>2022.0</td>\n",
       "      <td>11.0</td>\n",
       "      <td>Other</td>\n",
       "      <td>Bombardier</td>\n",
       "      <td>2.0</td>\n",
       "    </tr>\n",
       "    <tr>\n",
       "      <th>90295</th>\n",
       "      <td>Accident</td>\n",
       "      <td>ERA23LA075</td>\n",
       "      <td>2022-11-30</td>\n",
       "      <td>Newport News, VA</td>\n",
       "      <td>037816N</td>\n",
       "      <td>0762838W</td>\n",
       "      <td>PHF</td>\n",
       "      <td>NEWPORT NEWS/WILLIAMSBURG INTL</td>\n",
       "      <td>Non-Fatal</td>\n",
       "      <td>Substantial</td>\n",
       "      <td>...</td>\n",
       "      <td>VMC</td>\n",
       "      <td>Wednesday</td>\n",
       "      <td>VA</td>\n",
       "      <td>4.304444</td>\n",
       "      <td>-76.477222</td>\n",
       "      <td>2022.0</td>\n",
       "      <td>11.0</td>\n",
       "      <td>Other</td>\n",
       "      <td>Bombardier</td>\n",
       "      <td>0.0</td>\n",
       "    </tr>\n",
       "    <tr>\n",
       "      <th>90328</th>\n",
       "      <td>Accident</td>\n",
       "      <td>WPR23LA065</td>\n",
       "      <td>2022-12-13</td>\n",
       "      <td>Lewistown, MT</td>\n",
       "      <td>047257N</td>\n",
       "      <td>0109280W</td>\n",
       "      <td>KLWT</td>\n",
       "      <td>Lewiston Municipal Airport</td>\n",
       "      <td>Non-Fatal</td>\n",
       "      <td>Substantial</td>\n",
       "      <td>...</td>\n",
       "      <td>Unknown</td>\n",
       "      <td>Tuesday</td>\n",
       "      <td>MT</td>\n",
       "      <td>5.215833</td>\n",
       "      <td>-11.555556</td>\n",
       "      <td>2022.0</td>\n",
       "      <td>12.0</td>\n",
       "      <td>Other</td>\n",
       "      <td>Other</td>\n",
       "      <td>0.0</td>\n",
       "    </tr>\n",
       "    <tr>\n",
       "      <th>90335</th>\n",
       "      <td>Accident</td>\n",
       "      <td>WPR23LA069</td>\n",
       "      <td>2022-12-15</td>\n",
       "      <td>Wichita, KS</td>\n",
       "      <td>373829N</td>\n",
       "      <td>0972635W</td>\n",
       "      <td>ICT</td>\n",
       "      <td>WICHITA DWIGHT D EISENHOWER NT</td>\n",
       "      <td>Non-Fatal</td>\n",
       "      <td>Substantial</td>\n",
       "      <td>...</td>\n",
       "      <td>Unknown</td>\n",
       "      <td>Thursday</td>\n",
       "      <td>KS</td>\n",
       "      <td>37.641389</td>\n",
       "      <td>-97.443056</td>\n",
       "      <td>2022.0</td>\n",
       "      <td>12.0</td>\n",
       "      <td>Other</td>\n",
       "      <td>Other</td>\n",
       "      <td>0.0</td>\n",
       "    </tr>\n",
       "  </tbody>\n",
       "</table>\n",
       "<p>487 rows × 32 columns</p>\n",
       "</div>"
      ],
      "text/plain": [
       "      Investigation.Type Accident.Number Event.Date           Location  \\\n",
       "73204           Accident      CEN13CA129 2013-01-11     Alexandria, MN   \n",
       "73286           Accident      ERA13LA129 2013-02-07  Winston-Salem, NC   \n",
       "73313           Accident      CEN13CA162 2013-02-14        Abilene, TX   \n",
       "73321           Accident      ANC13CA023 2013-02-16   Dutch Harbor, AK   \n",
       "73329           Accident      WPR13LA132 2013-02-17         Casper, WY   \n",
       "...                  ...             ...        ...                ...   \n",
       "90275           Accident      CEN23LA052 2022-11-22         Denton, TX   \n",
       "90293           Accident      CEN23LA056 2022-11-29     Batesville, AR   \n",
       "90295           Accident      ERA23LA075 2022-11-30   Newport News, VA   \n",
       "90328           Accident      WPR23LA065 2022-12-13      Lewistown, MT   \n",
       "90335           Accident      WPR23LA069 2022-12-15        Wichita, KS   \n",
       "\n",
       "      Latitude Longitude Airport.Code                    Airport.Name  \\\n",
       "73204  455145N  0095240W          AXN    Alexindria Municipal Airport   \n",
       "73286  003681N  0801319W          INT          Smith Reynolds Airport   \n",
       "73313  323031N  0993626W          NaN                             NaN   \n",
       "73321  535334N  1663225W         PADU                        Unalaska   \n",
       "73329  425417N  1062731W          CPR     Casper/Natrona County Int'l   \n",
       "...        ...       ...          ...                             ...   \n",
       "90275  292548N  1005924W          NaN                             NaN   \n",
       "90293  354334N  0913851W          BVX     Batesville Regional Airport   \n",
       "90295  037816N  0762838W          PHF  NEWPORT NEWS/WILLIAMSBURG INTL   \n",
       "90328  047257N  0109280W         KLWT      Lewiston Municipal Airport   \n",
       "90335  373829N  0972635W          ICT  WICHITA DWIGHT D EISENHOWER NT   \n",
       "\n",
       "      Injury.Severity Aircraft.damage  ... Weather.Condition Day_Of_Week  \\\n",
       "73204       Non-Fatal     Substantial  ...               IMC      Friday   \n",
       "73286       Non-Fatal     Substantial  ...               VMC    Thursday   \n",
       "73313       Non-Fatal     Substantial  ...               VMC    Thursday   \n",
       "73321       Non-Fatal     Substantial  ...               VMC    Saturday   \n",
       "73329       Non-Fatal     Substantial  ...               VMC      Sunday   \n",
       "...               ...             ...  ...               ...         ...   \n",
       "90275       Non-Fatal     Substantial  ...           Unknown     Tuesday   \n",
       "90293           Minor     Substantial  ...               IMC     Tuesday   \n",
       "90295       Non-Fatal     Substantial  ...               VMC   Wednesday   \n",
       "90328       Non-Fatal     Substantial  ...           Unknown     Tuesday   \n",
       "90335       Non-Fatal     Substantial  ...           Unknown    Thursday   \n",
       "\n",
       "      State_Code   new_lats   new_longs    Year Month Large_Jets  Small_Jets  \\\n",
       "73204         MN  45.862500   -9.877778  2013.0   1.0      Other     Textron   \n",
       "73286         NC   0.622500  -80.221944  2013.0   2.0      Other     Textron   \n",
       "73313         TX  32.508611  -99.607222  2013.0   2.0      Other     Textron   \n",
       "73321         AK  53.892778 -166.540278  2013.0   2.0      Other       Other   \n",
       "73329         WY  42.904722 -106.458611  2013.0   2.0      Other     Textron   \n",
       "...          ...        ...         ...     ...   ...        ...         ...   \n",
       "90275         TX  29.430000 -100.990000  2022.0  11.0      Other     Textron   \n",
       "90293         AR  35.726111  -91.647500  2022.0  11.0      Other  Bombardier   \n",
       "90295         VA   4.304444  -76.477222  2022.0  11.0      Other  Bombardier   \n",
       "90328         MT   5.215833  -11.555556  2022.0  12.0      Other       Other   \n",
       "90335         KS  37.641389  -97.443056  2022.0  12.0      Other       Other   \n",
       "\n",
       "       Major_Injuries  \n",
       "73204             0.0  \n",
       "73286             0.0  \n",
       "73313             0.0  \n",
       "73321             0.0  \n",
       "73329             0.0  \n",
       "...               ...  \n",
       "90275             0.0  \n",
       "90293             2.0  \n",
       "90295             0.0  \n",
       "90328             0.0  \n",
       "90335             0.0  \n",
       "\n",
       "[487 rows x 32 columns]"
      ]
     },
     "execution_count": 68,
     "metadata": {},
     "output_type": "execute_result"
    }
   ],
   "source": [
    "# Make a new dataframe variable so we could the filtered dataset of the original aviation dataset,\n",
    "# we can compare the data we seperated. Still with us after that?\n",
    "df_filterered = df_filtered\n",
    "\n",
    "# Filtering the filtered dataset of the original aviation dataset, we can compare the data we seperated\n",
    "df_filterered = df_filterered.loc[df['Aircraft.damage'] == 'Substantial']\n",
    "df_filterered = df_filterered.loc[df['Total.Uninjured'] > 0]\n",
    "df_filterered = df_filterered.loc[df['Number.of.Engines'] == 2] \n",
    "\n",
    "# Woow, its the new dataframe! Again, would have used matplotlib here, but naaaah. Let's not please. \n",
    "df_filterered"
   ]
  },
  {
   "cell_type": "markdown",
   "id": "0de9fc95",
   "metadata": {},
   "source": [
    "### Blah blah blah Tableau exist, same yap as the 3 above markdowns, but split into a thousand cell blocks"
   ]
  },
  {
   "cell_type": "code",
   "execution_count": 69,
   "id": "ff6f34d6",
   "metadata": {},
   "outputs": [],
   "source": [
    "# Separating the city and state from the Location column and creating a new column for the state\n",
    "# (from https://www.kaggle.com/code/tetianalys605/aviation-accidents-python-analysis)\n",
    "df_filtered['State'] = df_filtered['Location'].str.split(',').str[1]"
   ]
  },
  {
   "cell_type": "code",
   "execution_count": 70,
   "id": "6bb7347b",
   "metadata": {},
   "outputs": [
    {
     "data": {
      "text/plain": [
       "State\n",
       " AK    706\n",
       " CA    678\n",
       " TX    589\n",
       " FL    500\n",
       " AZ    235\n",
       " CO    230\n",
       " GA    223\n",
       " WA    202\n",
       " ID    187\n",
       " NC    184\n",
       " NY    170\n",
       " PA    169\n",
       " OR    158\n",
       " OH    154\n",
       " MI    153\n",
       "Name: count, dtype: int64"
      ]
     },
     "execution_count": 70,
     "metadata": {},
     "output_type": "execute_result"
    }
   ],
   "source": [
    "#Getting the top 15 states with the most incidents in our data set\n",
    "df_filtered['State'].value_counts(ascending = False).head(15)"
   ]
  },
  {
   "cell_type": "code",
   "execution_count": 71,
   "id": "b1a7542e",
   "metadata": {},
   "outputs": [
    {
     "data": {
      "text/plain": [
       "Weather.Condition\n",
       "VMC        6454\n",
       "IMC         448\n",
       "Unknown     400\n",
       "Name: count, dtype: int64"
      ]
     },
     "execution_count": 71,
     "metadata": {},
     "output_type": "execute_result"
    }
   ],
   "source": [
    "# Taking a look at weather conditions\n",
    "df_filtered['Weather.Condition'].value_counts()"
   ]
  },
  {
   "cell_type": "code",
   "execution_count": 72,
   "id": "67cf87d5",
   "metadata": {},
   "outputs": [
    {
     "data": {
      "text/plain": [
       "State\n",
       " AK    636\n",
       " CA    602\n",
       " TX    517\n",
       " FL    453\n",
       " AZ    216\n",
       " CO    201\n",
       " GA    191\n",
       " WA    179\n",
       " ID    176\n",
       " NC    159\n",
       " PA    152\n",
       " NY    146\n",
       " OR    141\n",
       " OH    139\n",
       " MI    134\n",
       "Name: count, dtype: int64"
      ]
     },
     "execution_count": 72,
     "metadata": {},
     "output_type": "execute_result"
    }
   ],
   "source": [
    "# Determining the states with the highest number of incidents under VMC conditions\n",
    "state_VMC = df_filtered['State'].loc[df_filtered['Weather.Condition'] == 'VMC']\n",
    "top_15_state_VMC = state_VMC.value_counts().head(15)\n",
    "top_15_state_VMC"
   ]
  },
  {
   "cell_type": "code",
   "execution_count": 73,
   "id": "1b0545bf",
   "metadata": {},
   "outputs": [
    {
     "data": {
      "text/plain": [
       "State\n",
       " TX    39\n",
       " AK    33\n",
       " FL    26\n",
       " CA    23\n",
       " GA    23\n",
       " NC    18\n",
       " TN    16\n",
       " NY    15\n",
       " IL    14\n",
       " CO    14\n",
       " MN    13\n",
       " VA    12\n",
       " WI    12\n",
       " MI    12\n",
       " MO    11\n",
       "Name: count, dtype: int64"
      ]
     },
     "execution_count": 73,
     "metadata": {},
     "output_type": "execute_result"
    }
   ],
   "source": [
    "# Determining the states with the highest number of incidents under IMC conditions\n",
    "state_IMC = df_filtered['State'].loc[df_filtered['Weather.Condition'] == 'IMC']\n",
    "top_15_state_IMC = state_IMC.value_counts().head(15)\n",
    "top_15_state_IMC"
   ]
  },
  {
   "cell_type": "code",
   "execution_count": 74,
   "id": "98606358",
   "metadata": {},
   "outputs": [
    {
     "data": {
      "text/plain": [
       "State\n",
       " CA    149\n",
       " TX    101\n",
       " FL     91\n",
       " AK     73\n",
       " GA     55\n",
       " CO     37\n",
       " NC     34\n",
       " AZ     33\n",
       " NY     30\n",
       " OH     28\n",
       " MI     28\n",
       " TN     26\n",
       " NM     25\n",
       " OR     25\n",
       " IL     25\n",
       "Name: count, dtype: int64"
      ]
     },
     "execution_count": 74,
     "metadata": {},
     "output_type": "execute_result"
    }
   ],
   "source": [
    "# Looking at fatality counts per state\n",
    "state_fatality = df_filtered['State'].loc[df_filtered['Injury.Severity'] == 'Fatal']\n",
    "state_fatality_top_15 = state_fatality.value_counts().head(15)\n",
    "state_fatality_top_15"
   ]
  },
  {
   "cell_type": "code",
   "execution_count": 75,
   "id": "fa5a8d11",
   "metadata": {},
   "outputs": [
    {
     "data": {
      "text/plain": [
       "State\n",
       " AK    633\n",
       " CA    529\n",
       " TX    488\n",
       " FL    409\n",
       " AZ    202\n",
       " CO    193\n",
       " WA    178\n",
       " GA    168\n",
       " ID    164\n",
       " PA    152\n",
       " NC    150\n",
       " NY    140\n",
       " OR    133\n",
       " OH    126\n",
       " MI    125\n",
       "Name: count, dtype: int64"
      ]
     },
     "execution_count": 75,
     "metadata": {},
     "output_type": "execute_result"
    }
   ],
   "source": [
    "# Looking at non-fatality counts per state\n",
    "state_non_fatality = df_filtered['State'].loc[df_filtered['Injury.Severity'] != 'Fatal']\n",
    "state_non_fatality_top_15 = state_non_fatality.value_counts().head(15)\n",
    "state_non_fatality_top_15"
   ]
  },
  {
   "cell_type": "code",
   "execution_count": 76,
   "id": "39adfea7",
   "metadata": {},
   "outputs": [],
   "source": [
    "# Switching Event Date column to pandas date time\n",
    "df_filtered['Event.Date'] = pd.to_datetime(df_filtered['Event.Date'])"
   ]
  },
  {
   "cell_type": "code",
   "execution_count": 77,
   "id": "b6a7eb93",
   "metadata": {},
   "outputs": [],
   "source": [
    "# Creating a new column with Day of Week\n",
    "df_filtered['Day_Of_Week'] = df['Event.Date'].dt.day_name()"
   ]
  },
  {
   "cell_type": "code",
   "execution_count": 78,
   "id": "30cc291f",
   "metadata": {},
   "outputs": [
    {
     "data": {
      "text/plain": [
       "Day_Of_Week\n",
       "Saturday     1388\n",
       "Sunday       1237\n",
       "Friday       1074\n",
       "Thursday      961\n",
       "Monday        942\n",
       "Wednesday     910\n",
       "Tuesday       790\n",
       "Name: count, dtype: int64"
      ]
     },
     "execution_count": 78,
     "metadata": {},
     "output_type": "execute_result"
    }
   ],
   "source": [
    "# Finding value counts in the Day_of_Week column\n",
    "day_of_week = df_filtered['Day_Of_Week'].value_counts()\n",
    "day_of_week"
   ]
  },
  {
   "cell_type": "markdown",
   "id": "de2a38ae",
   "metadata": {},
   "source": [
    "## Guess 🗿 (Tableau copium part 5 btw)"
   ]
  },
  {
   "cell_type": "code",
   "execution_count": 79,
   "id": "53c0a403",
   "metadata": {},
   "outputs": [],
   "source": [
    "import matplotlib.pyplot as plt\n",
    "%matplotlib inline\n",
    "import seaborn as sns"
   ]
  },
  {
   "cell_type": "code",
   "execution_count": 80,
   "id": "63df3a76",
   "metadata": {},
   "outputs": [
    {
     "data": {
      "image/png": "[encoded data removed]",
      "text/plain": [
       "<Figure size 640x480 with 1 Axes>"
      ]
     },
     "metadata": {},
     "output_type": "display_data"
    }
   ],
   "source": [
    "# Plotting Number of Incidents per Day of the Week\n",
    "plot = sns.countplot(x = 'Day_Of_Week', order = ['Monday','Tuesday','Wednesday','Thursday','Friday','Saturday', 'Sunday'], color = 'b', data = df_filtered)\n",
    "plot.set(xlabel = 'Day of Week', ylabel = 'Number of Incidents', title = 'Number of Incidents Per Day');"
   ]
  },
  {
   "cell_type": "code",
   "execution_count": 81,
   "id": "21d65273",
   "metadata": {},
   "outputs": [],
   "source": [
    "# Creating a new column with Month of Year\n",
    "df_filtered['Month_of_Year'] = df['Event.Date'].dt.month_name().str[0:3]"
   ]
  },
  {
   "cell_type": "code",
   "execution_count": 82,
   "id": "93262998",
   "metadata": {},
   "outputs": [
    {
     "data": {
      "text/plain": [
       "Month_of_Year\n",
       "Jul    869\n",
       "Jun    802\n",
       "Aug    790\n",
       "Sep    765\n",
       "May    701\n",
       "Oct    641\n",
       "Mar    544\n",
       "Apr    527\n",
       "Nov    448\n",
       "Feb    416\n",
       "Jan    400\n",
       "Dec    399\n",
       "Name: count, dtype: int64"
      ]
     },
     "execution_count": 82,
     "metadata": {},
     "output_type": "execute_result"
    }
   ],
   "source": [
    "# Finding value counts in the Month_of_Year column\n",
    "month_of_year = df_filtered['Month_of_Year'].value_counts()\n",
    "month_of_year"
   ]
  },
  {
   "cell_type": "code",
   "execution_count": 83,
   "id": "7c53045b",
   "metadata": {},
   "outputs": [
    {
     "data": {
      "image/png": "[encoded data removed]",
      "text/plain": [
       "<Figure size 640x480 with 1 Axes>"
      ]
     },
     "metadata": {},
     "output_type": "display_data"
    }
   ],
   "source": [
    "# Plotting Number of Incidents per Month of Year\n",
    "plot = sns.countplot(x = 'Month_of_Year', color = 'b', data = df_filtered)\n",
    "plot.set(xlabel = 'Month of Year', ylabel = 'Number of Incidents', title = 'Number of Incidents Per Month');"
   ]
  }
 ],
 "metadata": {
  "kernelspec": {
   "display_name": "Python (learn-env)",
   "language": "python",
   "name": "learn-env"
  },
  "language_info": {
   "codemirror_mode": {
    "name": "ipython",
    "version": 3
   },
   "file_extension": ".py",
   "mimetype": "text/x-python",
   "name": "python",
   "nbconvert_exporter": "python",
   "pygments_lexer": "ipython3",
   "version": "3.11.5"
  }
 },
 "nbformat": 4,
 "nbformat_minor": 5
}
