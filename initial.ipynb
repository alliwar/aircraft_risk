{
 "cells": [
  {
   "cell_type": "markdown",
   "metadata": {},
   "source": [
    "# Something something big data on plane crashes woooo yeeeaaaaaaaaaah!!\n",
    "                                            ##### Jupyter Notebook coded by Allison Ward, Rick Lataille, and Anthony Mansion"
   ]
  },
  {
   "cell_type": "code",
   "execution_count": 1,
   "metadata": {},
   "outputs": [],
   "source": [
    "#Import the modules we need\n",
    "import pandas as pd\n",
    "import numpy as np\n",
    "\n",
    "# And this is the big data that we will be using\n",
    "df = pd.read_csv('Aviation_Data.csv', low_memory=False)"
   ]
  },
  {
   "cell_type": "markdown",
   "metadata": {},
   "source": [
    "## Here, we will be dropping columns we see no need for, the information isn't relevant."
   ]
  },
  {
   "cell_type": "code",
   "execution_count": 2,
   "metadata": {},
   "outputs": [
    {
     "name": "stdout",
     "output_type": "stream",
     "text": [
      "90348 items.\n"
     ]
    }
   ],
   "source": [
    "# Drop the columns we know that we don't need\n",
    "dropped_columns = ['Schedule', 'Report.Status', 'Publication.Date']\n",
    "df.drop(columns = dropped_columns, inplace=True)\n",
    "print(f\"{len(df)} items.\")"
   ]
  },
  {
   "cell_type": "code",
   "execution_count": 3,
   "metadata": {},
   "outputs": [
    {
     "name": "stdout",
     "output_type": "stream",
     "text": [
      "15829 items.\n"
     ]
    }
   ],
   "source": [
    "# Convert date column to datetime, then filter event dates to include 2013 and later\n",
    "df['Event.Date'] = pd.to_datetime(df['Event.Date'])\n",
    "df_filtered = df.loc[df['Event.Date'] >= '2013-01-01']\n",
    "print(f\"{len(df_filtered)} items.\")"
   ]
  },
  {
   "cell_type": "code",
   "execution_count": 4,
   "metadata": {},
   "outputs": [
    {
     "name": "stdout",
     "output_type": "stream",
     "text": [
      "13262 items.\n"
     ]
    }
   ],
   "source": [
    "# Filter aircraft categories for Airplanes only\n",
    "df_filtered = df_filtered.loc[df_filtered['Aircraft.Category'] == 'Airplane']\n",
    "print(f\"{len(df_filtered)} items.\")"
   ]
  },
  {
   "cell_type": "code",
   "execution_count": 5,
   "metadata": {},
   "outputs": [
    {
     "name": "stdout",
     "output_type": "stream",
     "text": [
      "11726 items.\n"
     ]
    }
   ],
   "source": [
    "# Exclude Amateur-built planes\n",
    "df_filtered = df_filtered.loc[df_filtered['Amateur.Built'] != 'Yes']\n",
    "print(f\"{len(df_filtered)} items.\")"
   ]
  },
  {
   "cell_type": "code",
   "execution_count": 6,
   "metadata": {},
   "outputs": [
    {
     "name": "stdout",
     "output_type": "stream",
     "text": [
      "9465 items.\n"
     ]
    }
   ],
   "source": [
    "# Include only events that happened in the United States or US Territories\n",
    "allowed_countries = ['United States']\n",
    "df_filtered = df_filtered.loc[df_filtered['Country'].isin(allowed_countries)]\n",
    "print(f\"{len(df_filtered)} items.\")"
   ]
  },
  {
   "cell_type": "code",
   "execution_count": 7,
   "metadata": {},
   "outputs": [
    {
     "name": "stdout",
     "output_type": "stream",
     "text": [
      "7320 items.\n"
     ]
    }
   ],
   "source": [
    "# Exclude certain identified purposes as irrelevant to our stakeholder\n",
    "allowed_purposes = ['Personal', np.nan, 'Business', 'Executive/corporate', \\\n",
    "                    'Positioning', 'Other Work Use', 'Ferry', 'Unknown', 'Public Aircraft - Federal', \\\n",
    "                   'Public Aircraft - State', 'Public Aircraft - Local', 'Public Aircraft', 'PUBS']\n",
    "df_filtered = df_filtered.loc[df_filtered['Purpose.of.flight'].isin(allowed_purposes)]\n",
    "print(f\"{len(df_filtered)} items.\")"
   ]
  },
  {
   "cell_type": "code",
   "execution_count": 8,
   "metadata": {},
   "outputs": [
    {
     "name": "stdout",
     "output_type": "stream",
     "text": [
      "7307 items.\n"
     ]
    }
   ],
   "source": [
    "# Filter for foreign locations not noted as foreign using the 'OF' state code in Location\n",
    "df_filtered['State_Code'] = df_filtered['Location'].str.slice(-2)\n",
    "df_filtered = df_filtered.loc[df_filtered['State_Code'] != 'OF']\n",
    "print(f\"{len(df_filtered)} items.\")"
   ]
  },
  {
   "cell_type": "code",
   "execution_count": 9,
   "metadata": {},
   "outputs": [
    {
     "name": "stdout",
     "output_type": "stream",
     "text": [
      "7302 items.\n"
     ]
    }
   ],
   "source": [
    "# Drop rows that are missing latitude coordinates (also captures missing Longitude)\n",
    "df_filtered.dropna(subset=['Latitude'], inplace=True)\n",
    "print(f\"{len(df_filtered)} items.\")"
   ]
  },
  {
   "cell_type": "code",
   "execution_count": 10,
   "metadata": {},
   "outputs": [],
   "source": [
    "# Drop columns that are no longer useful\n",
    "obsolete_columns = ['Event.Id', 'Country', 'Aircraft.Category', 'Registration.Number', 'Broad.phase.of.flight']\n",
    "df_filtered.drop(columns = obsolete_columns, inplace=True)"
   ]
  },
  {
   "cell_type": "code",
   "execution_count": 11,
   "metadata": {},
   "outputs": [],
   "source": [
    "# Record original makes for later comparison\n",
    "Original_makes = len(df_filtered['Make'].unique())"
   ]
  },
  {
   "cell_type": "code",
   "execution_count": 12,
   "metadata": {},
   "outputs": [],
   "source": [
    "# These map functions will clean the 'Make' column, A-C\n",
    "df_filtered['Make'] = df_filtered['Make'].map(lambda x: \"Aerofab\" if x.lower().strip()[:7]==\"aerofab\" else x)\n",
    "df_filtered['Make'] = df_filtered['Make'].map(lambda x: \"Aeroprakt\" if x.lower().strip()[:9]==\"aeroprakt\" else x)\n",
    "df_filtered['Make'] = df_filtered['Make'].map(lambda x: \"Aeropro\" if x.lower().strip()[:7]==\"aeropro\" else x)\n",
    "df_filtered['Make'] = df_filtered['Make'].map(lambda x: \"Aerostar\" if x.lower().strip()[:8]==\"aerostar\" else x)\n",
    "df_filtered['Make'] = df_filtered['Make'].map(lambda x: \"Aerostar\" if x.lower().strip()[:3]==\"s c\" else x)\n",
    "df_filtered['Make'] = df_filtered['Make'].map(lambda x: \"Aerotek\" if x.lower().strip()[:7]==\"aerotek\" else x)\n",
    "df_filtered['Make'] = df_filtered['Make'].map(lambda x: \"Air Tractor\" if x.lower().strip()[:11]==\"air tractor\" else x)\n",
    "df_filtered['Make'] = df_filtered['Make'].map(lambda x: \"Airbus\" if x.lower().strip()[:6]==\"airbus\" else x)\n",
    "df_filtered['Make'] = df_filtered['Make'].map(lambda x: \"Aircraft Mfg\" if x.lower().strip()[:12]==\"aircraft mfg\" else x)\n",
    "df_filtered['Make'] = df_filtered['Make'].map(lambda x: \"American Champion\" if x.lower().strip()[:17]==\"american champion\" else x)\n",
    "df_filtered['Make'] = df_filtered['Make'].map(lambda x: \"American Legend\" if x.lower().strip()[:15]==\"american legend\" else x)\n",
    "df_filtered['Make'] = df_filtered['Make'].map(lambda x: \"Arion\" if x.lower().strip()[:5]==\"arion\" else x)\n",
    "df_filtered['Make'] = df_filtered['Make'].map(lambda x: \"Aviat\" if x.lower().strip()[:5]==\"aviat\" else x)\n",
    "df_filtered['Make'] = df_filtered['Make'].map(lambda x: \"Avions\" if x.lower().strip()[:6]==\"avions\" else x)\n",
    "df_filtered['Make'] = df_filtered['Make'].map(lambda x: \"BAE\" if x.lower().strip()[:3]==\"bae\" else x)\n",
    "df_filtered['Make'] = df_filtered['Make'].map(lambda x: \"Beechcraft\" if x.lower().strip()[:5]==\"beech\" else x)\n",
    "df_filtered['Make'] = df_filtered['Make'].map(lambda x: \"Beechcraft\" if x.lower().strip()[:6]==\"hawker\" else x)\n",
    "df_filtered['Make'] = df_filtered['Make'].map(lambda x: \"Boeing\" if x.lower().strip()[:6]==\"boeing\" else x)\n",
    "df_filtered['Make'] = df_filtered['Make'].map(lambda x: \"Boeing\" if x.lower().strip()[:9]==\"mcdonnell\" else x)\n",
    "df_filtered['Make'] = df_filtered['Make'].map(lambda x: \"Bombardier\" if x.lower().strip()[:10]==\"bombardier\" else x)\n",
    "df_filtered['Make'] = df_filtered['Make'].map(lambda x: \"Bombardier\" if x.lower().strip()[:5]==\"gates\" else x)\n",
    "df_filtered['Make'] = df_filtered['Make'].map(lambda x: \"Bombardier\" if x.lower().strip()[:7]==\"learjet\" else x)\n",
    "df_filtered['Make'] = df_filtered['Make'].map(lambda x: \"BAE\" if x.lower().strip()[:12]==\"british aero\" else x)\n",
    "df_filtered['Make'] = df_filtered['Make'].map(lambda x: \"Britten-Norman\" if x.lower().strip()[:7]==\"britten\" else x)\n",
    "df_filtered['Make'] = df_filtered['Make'].map(lambda x: \"Bucker\" if x.lower().strip()[:6]==\"bucker\" else x)\n",
    "df_filtered['Make'] = df_filtered['Make'].map(lambda x: \"Canadair\" if x.lower().strip()[:8]==\"canadair\" else x)\n",
    "df_filtered['Make'] = df_filtered['Make'].map(lambda x: \"Cessna\" if x.lower().strip()[:6]==\"cessna\" else x)\n",
    "df_filtered['Make'] = df_filtered['Make'].map(lambda x: \"Cirrus\" if x.lower().strip()[:6]==\"cirrus\" else x)\n",
    "df_filtered['Make'] = df_filtered['Make'].map(lambda x: \"Convair\" if x.lower().strip()[:12]==\"consolidated\" else x)\n",
    "df_filtered['Make'] = df_filtered['Make'].map(lambda x: \"CubCrafters\" if x.lower().strip()[:3]==\"cub\" else x)\n",
    "df_filtered['Make'] = df_filtered['Make'].map(lambda x: \"Czech\" if x.lower().strip()[:5]==\"czech\" else x)"
   ]
  },
  {
   "cell_type": "code",
   "execution_count": 13,
   "metadata": {},
   "outputs": [],
   "source": [
    "# These map functions will clean the 'Make' column, D-N\n",
    "df_filtered['Make'] = df_filtered['Make'].map(lambda x: \"Daher\" if x.lower().strip()[:3]==\"s.o\" else x)\n",
    "df_filtered['Make'] = df_filtered['Make'].map(lambda x: \"Daher\" if x.lower().strip()[:3]==\"soc\" else x)\n",
    "df_filtered['Make'] = df_filtered['Make'].map(lambda x: \"Dassault\" if x.lower().strip()[:8]==\"dassault\" else x)\n",
    "df_filtered['Make'] = df_filtered['Make'].map(lambda x: \"De Havilland\" if x.lower().strip()[:6]==\"de hav\" else x)\n",
    "df_filtered['Make'] = df_filtered['Make'].map(lambda x: \"De Havilland\" if x.lower().strip()[:5]==\"dehav\" else x)\n",
    "df_filtered['Make'] = df_filtered['Make'].map(lambda x: \"Diamond\" if x.lower().strip()[:7]==\"diamond\" else x)\n",
    "df_filtered['Make'] = df_filtered['Make'].map(lambda x: \"Eclipse\" if x.lower().strip()[:7]==\"eclipse\" else x)\n",
    "df_filtered['Make'] = df_filtered['Make'].map(lambda x: \"Embraer\" if x.lower().strip()[:7]==\"embraer\" else x)\n",
    "df_filtered['Make'] = df_filtered['Make'].map(lambda x: \"Evektor\" if x.lower().strip()[:7]==\"evektor\" else x)\n",
    "df_filtered['Make'] = df_filtered['Make'].map(lambda x: \"Evolution\" if x.lower().strip()[:9]==\"evolution\" else x)\n",
    "df_filtered['Make'] = df_filtered['Make'].map(lambda x: \"Extra\" if x.lower().strip()[:5]==\"extra\" else x)\n",
    "df_filtered['Make'] = df_filtered['Make'].map(lambda x: \"Fairchild\" if x.lower().strip()[:9]==\"fairchild\" else x)\n",
    "df_filtered['Make'] = df_filtered['Make'].map(lambda x: \"Fantasy Air\" if x.lower().strip()[:7]==\"fantasy\" else x)\n",
    "df_filtered['Make'] = df_filtered['Make'].map(lambda x: \"Flight Design\" if x.lower().strip()[:8]==\"flight d\" else x)\n",
    "df_filtered['Make'] = df_filtered['Make'].map(lambda x: \"Flightstar\" if x.lower().strip()[:7]==\"flights\" else x)\n",
    "df_filtered['Make'] = df_filtered['Make'].map(lambda x: \"FPNA\" if x.lower().strip()[:4]==\"fpna\" else x)\n",
    "df_filtered['Make'] = df_filtered['Make'].map(lambda x: \"Glasair\" if x.lower().strip()[:7]==\"glasair\" else x)\n",
    "df_filtered['Make'] = df_filtered['Make'].map(lambda x: \"Golden Circle\" if x.lower().strip()[:8]==\"golden c\" else x)\n",
    "df_filtered['Make'] = df_filtered['Make'].map(lambda x: \"Gulfstream\" if x.lower().strip()[:10]==\"gulfstream\" else x)\n",
    "df_filtered['Make'] = df_filtered['Make'].map(lambda x: \"Honda\" if x.lower().strip()[:5]==\"honda\" else x)\n",
    "df_filtered['Make'] = df_filtered['Make'].map(lambda x: \"Jabiru\" if x.lower().strip()[:6]==\"jabiru\" else x)\n",
    "df_filtered['Make'] = df_filtered['Make'].map(lambda x: \"Lancair\" if x.lower().strip()[:7]==\"lancair\" else x)\n",
    "df_filtered['Make'] = df_filtered['Make'].map(lambda x: \"Maxair\" if x.lower().strip()[:6]==\"maxair\" else x)\n",
    "df_filtered['Make'] = df_filtered['Make'].map(lambda x: \"Meyers\" if x.lower().strip()[:6]==\"meyers\" else x)\n",
    "df_filtered['Make'] = df_filtered['Make'].map(lambda x: \"Mooney\" if x.lower().strip()[:6]==\"mooney\" else x)\n",
    "df_filtered['Make'] = df_filtered['Make'].map(lambda x: \"M-Squared\" if x.lower().strip()[:9]==\"m-squared\" else x)\n",
    "df_filtered['Make'] = df_filtered['Make'].map(lambda x: \"Nanchang\" if x.lower().strip()[:8]==\"nanchang\" else x)\n",
    "df_filtered['Make'] = df_filtered['Make'].map(lambda x: \"Northrop Grumman\" if x.lower().strip()[:7]==\"grumman\" else x)\n",
    "df_filtered['Make'] = df_filtered['Make'].map(lambda x: \"Northrop Grumman\" if x.lower().strip()[:8]==\"northrop\" else x)\n",
    "df_filtered['Make'] = df_filtered['Make'].map(lambda x: \"North American\" if x.lower().strip()[:8]==\"north am\" else x)\n",
    "df_filtered['Make'] = df_filtered['Make'].map(lambda x: \"North Wing\" if x.lower().strip()[:7]==\"north w\" else x)\n",
    "df_filtered['Make'] = df_filtered['Make'].map(lambda x: \"North Wing\" if x.lower().strip()[:6]==\"northw\" else x)"
   ]
  },
  {
   "cell_type": "code",
   "execution_count": 14,
   "metadata": {},
   "outputs": [],
   "source": [
    "# These map functions will clean the 'Make' column, N-Z\n",
    "df_filtered['Make'] = df_filtered['Make'].map(lambda x: \"Orlican\" if x.lower().strip()[:7]==\"orlican\" else x)\n",
    "df_filtered['Make'] = df_filtered['Make'].map(lambda x: \"Phantom\" if x.lower().strip()[:7]==\"phantom\" else x)\n",
    "df_filtered['Make'] = df_filtered['Make'].map(lambda x: \"Pilatus\" if x.lower().strip()[:7]==\"pilatus\" else x)\n",
    "df_filtered['Make'] = df_filtered['Make'].map(lambda x: \"Piper\" if x.lower().strip()[:9]==\"new piper\" else x)\n",
    "df_filtered['Make'] = df_filtered['Make'].map(lambda x: \"Piper\" if x.lower().strip()[:5]==\"piper\" else x)\n",
    "df_filtered['Make'] = df_filtered['Make'].map(lambda x: \"Pipistrel\" if x.lower().strip()[:4]==\"pipi\" else x)\n",
    "df_filtered['Make'] = df_filtered['Make'].map(lambda x: \"Pitts\" if x.lower().strip()[:5]==\"pitts\" else x)\n",
    "df_filtered['Make'] = df_filtered['Make'].map(lambda x: \"Pzl Okecie\" if x.lower().strip()[:3]==\"pzl\" else x)\n",
    "df_filtered['Make'] = df_filtered['Make'].map(lambda x: \"Quad City\" if x.lower().strip()[:4]==\"quad\" else x)\n",
    "df_filtered['Make'] = df_filtered['Make'].map(lambda x: \"Quest\" if x.lower().strip()[:5]==\"quest\" else x)\n",
    "df_filtered['Make'] = df_filtered['Make'].map(lambda x: \"Quicksilver\" if x.lower().strip()[:5]==\"quick\" else x)\n",
    "df_filtered['Make'] = df_filtered['Make'].map(lambda x: \"Rans\" if x.lower().strip()[:4]==\"rans\" else x)\n",
    "df_filtered['Make'] = df_filtered['Make'].map(lambda x: \"Raytheon\" if x.lower().strip()[:4]==\"rath\" else x)\n",
    "df_filtered['Make'] = df_filtered['Make'].map(lambda x: \"Raytheon\" if x.lower().strip()[:5]==\"rayt\" else x)\n",
    "df_filtered['Make'] = df_filtered['Make'].map(lambda x: \"Remos\" if x.lower().strip()[:5]==\"remos\" else x)\n",
    "df_filtered['Make'] = df_filtered['Make'].map(lambda x: \"Rockwell\" if x.lower().strip()[:8]==\"rockwell\" else x)\n",
    "df_filtered['Make'] = df_filtered['Make'].map(lambda x: \"Ryan\" if x.lower().strip()[:4]==\"ryan\" else x)\n",
    "df_filtered['Make'] = df_filtered['Make'].map(lambda x: \"Scoda\" if x.lower().strip()[:5]==\"scoda\" else x)\n",
    "df_filtered['Make'] = df_filtered['Make'].map(lambda x: \"Short\" if x.lower().strip()[:5]==\"short\" else x)\n",
    "df_filtered['Make'] = df_filtered['Make'].map(lambda x: \"Stearman\" if x.lower().strip()[:8]==\"stearman\" else x)\n",
    "df_filtered['Make'] = df_filtered['Make'].map(lambda x: \"Taylorcraft\" if x.lower().strip()[:7]==\"taylorc\" else x)\n",
    "df_filtered['Make'] = df_filtered['Make'].map(lambda x: \"Textron\" if x.lower().strip()[:7]==\"textron\" else x)\n",
    "df_filtered['Make'] = df_filtered['Make'].map(lambda x: \"TL Ultralight\" if x.lower().strip()[:2]==\"tl\" else x)\n",
    "df_filtered['Make'] = df_filtered['Make'].map(lambda x: \"Vans\" if x.lower().strip()[:4]==\"vans\" else x)\n",
    "df_filtered['Make'] = df_filtered['Make'].map(lambda x: \"Waco\" if x.lower().strip()[:4]==\"waco\" else x)\n",
    "df_filtered['Make'] = df_filtered['Make'].map(lambda x: \"Zlin\" if x.lower().strip()[:4]==\"zlin\" else x)"
   ]
  },
  {
   "cell_type": "code",
   "execution_count": 15,
   "metadata": {},
   "outputs": [
    {
     "name": "stdout",
     "output_type": "stream",
     "text": [
      "The original 670 makes have been reduced to 444 makes.\n"
     ]
    }
   ],
   "source": [
    "# Show the amount of consolidation in makes\n",
    "print(f\"The original {Original_makes} makes have been reduced to {len(df_filtered['Make'].unique())} makes.\")"
   ]
  },
  {
   "cell_type": "code",
   "execution_count": 16,
   "metadata": {},
   "outputs": [],
   "source": [
    "# Change \"NaN\" to 'None' or 'Unknown', as appropriate\n",
    "df_filtered['Injury.Severity'].fillna('None', inplace=True)\n",
    "df_filtered['Aircraft.damage'].fillna('Unknown', inplace=True)\n",
    "df_filtered['Purpose.of.flight'].fillna('Unknown', inplace=True)\n",
    "df_filtered['Engine.Type'].fillna('Unknown', inplace=True)\n",
    "df_filtered['FAR.Description'].fillna('Unknown', inplace=True)\n",
    "df_filtered['Number.of.Engines'].fillna('Unknown', inplace=True)"
   ]
  },
  {
   "cell_type": "code",
   "execution_count": 17,
   "metadata": {},
   "outputs": [],
   "source": [
    "# This will convert all 'unknown' type entries to 'Unknown' in the Air.carrier field\n",
    "df_filtered['Air.carrier'].fillna('Unknown', inplace=True)\n",
    "df_filtered['Air.carrier'] = df_filtered['Air.carrier'].astype(str).map(\n",
    "    lambda x: \"Unknown\" if x.lower().strip()[:3]==\"unk\" else x)"
   ]
  },
  {
   "cell_type": "code",
   "execution_count": 18,
   "metadata": {},
   "outputs": [],
   "source": [
    "# This will convert all 'unknown' type entries to 'Unknown' in the Weather.Condition field\n",
    "df_filtered['Weather.Condition'].fillna('Unknown', inplace=True)\n",
    "df_filtered['Weather.Condition'] = df_filtered['Weather.Condition'].astype(str).map(\n",
    "    lambda x: \"Unknown\" if x.lower().strip()[:3]==\"unk\" else x)"
   ]
  },
  {
   "cell_type": "code",
   "execution_count": 19,
   "metadata": {},
   "outputs": [],
   "source": [
    "# Put all Makes into Title case, for readability\n",
    "df_filtered['Make'] = df_filtered['Make'].map(lambda x: x.title())"
   ]
  },
  {
   "cell_type": "code",
   "execution_count": 20,
   "metadata": {},
   "outputs": [],
   "source": [
    "# Use dt functions to extract year and month and create new columns\n",
    "df_filtered['Year'] = df['Event.Date'].dt.year\n",
    "df_filtered['Month'] = df['Event.Date'].dt.month"
   ]
  },
  {
   "cell_type": "code",
   "execution_count": 21,
   "metadata": {},
   "outputs": [],
   "source": [
    "# Create a new column to simplify the large jet analysis\n",
    "separate_jets = [\"Airbus\", \"Boeing\", \"Embraer\"]\n",
    "df_filtered['Large_Jets'] = df_filtered['Make'].map(lambda x: \"Other\" if x not in separate_jets else x)"
   ]
  },
  {
   "cell_type": "code",
   "execution_count": 22,
   "metadata": {},
   "outputs": [],
   "source": [
    "# Create a new column summing fatal and serious injuries\n",
    "df_filtered['Major_Injuries'] = df_filtered['Total.Fatal.Injuries'] + df_filtered['Total.Serious.Injuries']"
   ]
  },
  {
   "cell_type": "code",
   "execution_count": 23,
   "metadata": {},
   "outputs": [],
   "source": [
    "# Write to a new CSV file\n",
    "df_filtered.to_csv('Filtered_Aviation_Data.csv', index=False)"
   ]
  }
 ],
 "metadata": {
  "kernelspec": {
   "display_name": "Python (learn-env)",
   "language": "python",
   "name": "learn-env"
  },
  "language_info": {
   "codemirror_mode": {
    "name": "ipython",
    "version": 3
   },
   "file_extension": ".py",
   "mimetype": "text/x-python",
   "name": "python",
   "nbconvert_exporter": "python",
   "pygments_lexer": "ipython3",
   "version": "3.8.5"
  }
 },
 "nbformat": 4,
 "nbformat_minor": 5
}
