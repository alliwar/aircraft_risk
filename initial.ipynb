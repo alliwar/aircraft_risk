{
 "cells": [
  {
   "cell_type": "markdown",
   "id": "206db0ab",
   "metadata": {},
   "source": [
    "# Something something big data on plane crashes woooo yeeeaaaaaaaaaah!!\n",
    "                                            ##### Jupyter Notebook coded by Allison Ward, Rick Lataille, and Anthony Mansion"
   ]
  },
  {
   "cell_type": "code",
   "execution_count": 1,
   "id": "94bb1f3f",
   "metadata": {},
   "outputs": [
    {
     "name": "stderr",
     "output_type": "stream",
     "text": [
      "/var/folders/r7/dkcrrdg1099bt6wjv8tr4trc0000gn/T/ipykernel_37292/4187836328.py:2: DeprecationWarning: \n",
      "Pyarrow will become a required dependency of pandas in the next major release of pandas (pandas 3.0),\n",
      "(to allow more performant data types, such as the Arrow string type, and better interoperability with other libraries)\n",
      "but was not found to be installed on your system.\n",
      "If this would cause problems for you,\n",
      "please provide us feedback at https://github.com/pandas-dev/pandas/issues/54466\n",
      "        \n",
      "  import pandas as pd\n"
     ]
    }
   ],
   "source": [
    "# Firstly, import the very useful pandas package for data analysis and manipulation\n",
    "import pandas as pd\n",
    "\n",
    "# And this is the big data that we will be using\n",
    "df = pd.read_csv('Aviation_Data.csv', low_memory=False)"
   ]
  },
  {
   "cell_type": "markdown",
   "id": "079787cb",
   "metadata": {},
   "source": [
    "## Here, we will be dropping columns we see no need for, the information isn't relevant."
   ]
  },
  {
   "cell_type": "code",
   "execution_count": 2,
   "id": "c09dad68",
   "metadata": {},
   "outputs": [],
   "source": [
    "# Dropped columns... (Soon)"
   ]
  },
  {
   "cell_type": "markdown",
   "id": "a5b3ffe4",
   "metadata": {},
   "source": [
    "## As for the columns we DO need, we filter some columns for the information we need."
   ]
  },
  {
   "cell_type": "code",
   "execution_count": 7,
   "id": "2340350d-19a7-4f9f-8010-54a59bf05ec2",
   "metadata": {},
   "outputs": [],
   "source": [
    "# Filter aircraft categories for Airplanes only (27617 rows)\n",
    "Airplanes = df.loc[df['Aircraft.Category'] == 'Airplane']\n",
    "\n",
    "\n",
    "# Filter event dates for the year 2013 and after, first turning the dates from strings to integers to do that (15829 rows)\n",
    "df['Event.Date'] = pd.to_datetime(df['Event.Date'])\n",
    "filtered_dates = df.loc[df['Event.Date'] >= '2013-01-01']\n",
    "\n",
    "# Filter the country column to be the United States only (82248  rows)\n",
    "United_States = df.loc[df['Country'] == 'United States']\n",
    "\n",
    "# Filter the purpose of flight column... (Soon)"
   ]
  },
  {
   "cell_type": "code",
   "execution_count": 8,
   "id": "3fd21fec-8747-4e54-9f92-86af292af78e",
   "metadata": {},
   "outputs": [
    {
     "name": "stdout",
     "output_type": "stream",
     "text": [
      "<class 'pandas.core.frame.DataFrame'>\n",
      "RangeIndex: 90348 entries, 0 to 90347\n",
      "Data columns (total 31 columns):\n",
      " #   Column                  Non-Null Count  Dtype         \n",
      "---  ------                  --------------  -----         \n",
      " 0   Event.Id                88889 non-null  object        \n",
      " 1   Investigation.Type      90348 non-null  object        \n",
      " 2   Accident.Number         88889 non-null  object        \n",
      " 3   Event.Date              88889 non-null  datetime64[ns]\n",
      " 4   Location                88837 non-null  object        \n",
      " 5   Country                 88663 non-null  object        \n",
      " 6   Latitude                34382 non-null  object        \n",
      " 7   Longitude               34373 non-null  object        \n",
      " 8   Airport.Code            50132 non-null  object        \n",
      " 9   Airport.Name            52704 non-null  object        \n",
      " 10  Injury.Severity         87889 non-null  object        \n",
      " 11  Aircraft.damage         85695 non-null  object        \n",
      " 12  Aircraft.Category       32287 non-null  object        \n",
      " 13  Registration.Number     87507 non-null  object        \n",
      " 14  Make                    88826 non-null  object        \n",
      " 15  Model                   88797 non-null  object        \n",
      " 16  Amateur.Built           88787 non-null  object        \n",
      " 17  Number.of.Engines       82805 non-null  float64       \n",
      " 18  Engine.Type             81793 non-null  object        \n",
      " 19  FAR.Description         32023 non-null  object        \n",
      " 20  Schedule                12582 non-null  object        \n",
      " 21  Purpose.of.flight       82697 non-null  object        \n",
      " 22  Air.carrier             16648 non-null  object        \n",
      " 23  Total.Fatal.Injuries    77488 non-null  float64       \n",
      " 24  Total.Serious.Injuries  76379 non-null  float64       \n",
      " 25  Total.Minor.Injuries    76956 non-null  float64       \n",
      " 26  Total.Uninjured         82977 non-null  float64       \n",
      " 27  Weather.Condition       84397 non-null  object        \n",
      " 28  Broad.phase.of.flight   61724 non-null  object        \n",
      " 29  Report.Status           82505 non-null  object        \n",
      " 30  Publication.Date        73659 non-null  object        \n",
      "dtypes: datetime64[ns](1), float64(5), object(25)\n",
      "memory usage: 21.4+ MB\n"
     ]
    }
   ],
   "source": [
    "df.info()"
   ]
  },
  {
   "cell_type": "code",
   "execution_count": null,
   "id": "bfa6acdf-8f78-4713-9d25-b709788ed790",
   "metadata": {},
   "outputs": [],
   "source": []
  }
 ],
 "metadata": {
  "kernelspec": {
   "display_name": "Python (learn-env)",
   "language": "python",
   "name": "learn-env"
  },
  "language_info": {
   "codemirror_mode": {
    "name": "ipython",
    "version": 3
   },
   "file_extension": ".py",
   "mimetype": "text/x-python",
   "name": "python",
   "nbconvert_exporter": "python",
   "pygments_lexer": "ipython3",
   "version": "3.9.18"
  }
 },
 "nbformat": 4,
 "nbformat_minor": 5
}
