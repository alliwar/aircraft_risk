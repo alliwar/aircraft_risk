{
 "cells": [
  {
   "cell_type": "markdown",
   "id": "557cef12",
   "metadata": {},
   "source": [
    "# Something something big data on plane crashes woooo yeeeaaaaaaaaaah!!\n",
    "                                            ##### Jupyter Notebook coded by Allison Ward, Rick Lataille, and Anthony Mansion"
   ]
  },
  {
   "cell_type": "code",
   "execution_count": 179,
   "id": "44a6f7d3",
   "metadata": {},
   "outputs": [],
   "source": [
    "#Import the modules we need\n",
    "import pandas as pd\n",
    "import numpy as np\n",
    "\n",
    "# And this is the big data that we will be using\n",
    "df = pd.read_csv('Aviation_Data.csv', low_memory=False)"
   ]
  },
  {
   "cell_type": "markdown",
   "id": "918b458f",
   "metadata": {},
   "source": [
    "## Here, we will be dropping columns we see no need for, the information isn't relevant."
   ]
  },
  {
   "cell_type": "code",
   "execution_count": 180,
   "id": "f7af1f71",
   "metadata": {},
   "outputs": [
    {
     "name": "stdout",
     "output_type": "stream",
     "text": [
      "90348 items.\n"
     ]
    }
   ],
   "source": [
    "# Drop the columns we know that we don't need\n",
    "dropped_columns = ['Schedule', 'Report.Status', 'Publication.Date']\n",
    "df.drop(columns = dropped_columns, inplace=True)\n",
    "print(f\"{len(df)} items.\")"
   ]
  },
  {
   "cell_type": "markdown",
   "id": "a4fdab3f",
   "metadata": {},
   "source": [
    "## As for the columns we DO need, we filter some columns for the information we need."
   ]
  },
  {
   "cell_type": "code",
   "execution_count": 181,
   "id": "1253b532",
   "metadata": {},
   "outputs": [
    {
     "name": "stdout",
     "output_type": "stream",
     "text": [
      "15829 items.\n"
     ]
    }
   ],
   "source": [
    "# Convert date column to datetime, then filter event dates to include 2013 and later\n",
    "df['Event.Date'] = pd.to_datetime(df['Event.Date'])\n",
    "df_filtered = df.loc[df['Event.Date'] >= '2013-01-01']\n",
    "print(f\"{len(df_filtered)} items.\")"
   ]
  },
  {
   "cell_type": "code",
   "execution_count": 182,
   "id": "74dd9a43",
   "metadata": {},
   "outputs": [
    {
     "name": "stdout",
     "output_type": "stream",
     "text": [
      "13262 items.\n"
     ]
    }
   ],
   "source": [
    "# Filter aircraft categories for Airplanes only\n",
    "df_filtered = df_filtered.loc[df_filtered['Aircraft.Category'] == 'Airplane']\n",
    "print(f\"{len(df_filtered)} items.\")"
   ]
  },
  {
   "cell_type": "code",
   "execution_count": 183,
   "id": "bddf0ed4",
   "metadata": {},
   "outputs": [
    {
     "name": "stdout",
     "output_type": "stream",
     "text": [
      "11726 items.\n"
     ]
    }
   ],
   "source": [
    "# Exclude Amateur-built planes\n",
    "df_filtered = df_filtered.loc[df_filtered['Amateur.Built'] != 'Yes']\n",
    "print(f\"{len(df_filtered)} items.\")"
   ]
  },
  {
   "cell_type": "code",
   "execution_count": 184,
   "id": "8b4fb956",
   "metadata": {},
   "outputs": [
    {
     "name": "stdout",
     "output_type": "stream",
     "text": [
      "9465 items.\n"
     ]
    }
   ],
   "source": [
    "# Include only events that happened in the United States or US Territories\n",
    "allowed_countries = ['United States']\n",
    "df_filtered = df_filtered.loc[df_filtered['Country'].isin(allowed_countries)]\n",
    "print(f\"{len(df_filtered)} items.\")"
   ]
  },
  {
   "cell_type": "code",
   "execution_count": 185,
   "id": "cb27cf2e",
   "metadata": {},
   "outputs": [
    {
     "name": "stdout",
     "output_type": "stream",
     "text": [
      "7320 items.\n"
     ]
    }
   ],
   "source": [
    "# Exclude certain identified purposes as irrelevant to our stakeholder\n",
    "allowed_purposes = ['Personal', np.nan, 'Business', 'Executive/corporate', \\\n",
    "                    'Positioning', 'Other Work Use', 'Ferry', 'Unknown', 'Public Aircraft - Federal', \\\n",
    "                   'Public Aircraft - State', 'Public Aircraft - Local', 'Public Aircraft', 'PUBS']\n",
    "df_filtered = df_filtered.loc[df_filtered['Purpose.of.flight'].isin(allowed_purposes)]\n",
    "print(f\"{len(df_filtered)} items.\")"
   ]
  },
  {
   "cell_type": "code",
   "execution_count": 186,
   "id": "6337f9d9",
   "metadata": {},
   "outputs": [],
   "source": [
    "df_filtered.to_csv('Filtered_Aviation_Data.csv', index=False)"
   ]
  },
  {
   "cell_type": "code",
   "execution_count": 187,
   "id": "e94650c7-3362-45fb-887e-6f74cb188e5f",
   "metadata": {},
   "outputs": [],
   "source": [
    "#Converting latitude and longitude from Degrees, Minutes, and Seconds to Decimal Degrees\n",
    "\n",
    "df_filtered.dropna(subset=['Latitude', 'Longitude'], inplace=True)\n",
    "\n",
    "def convert_latitude(x):\n",
    "    degrees = float(x[:2])\n",
    "    minutes = float(x[2:4])\n",
    "    seconds = float(x[4:6])\n",
    "    return degrees + minutes/60 + seconds/3600\n",
    "\n",
    "df_filtered[\"new_lats\"] = df_filtered['Latitude'].map(convert_latitude)\n",
    "\n",
    "def convert_longitude(x):\n",
    "    degrees = float(x[:3])\n",
    "    minutes = float(x[3:5])\n",
    "    seconds = float(x[5:7])\n",
    "    return -(degrees + minutes/60 + seconds/3600)\n",
    "\n",
    "df_filtered[\"new_longs\"] = df_filtered['Longitude'].map(convert_longitude)"
   ]
  },
  {
   "cell_type": "code",
   "execution_count": 188,
   "id": "21d425a6-420a-4f7e-9bd2-1916e92d0156",
   "metadata": {},
   "outputs": [],
   "source": [
    "# Separating the city and state from the Location column and creating a new column for the state (from https://www.kaggle.com/code/tetianalys605/aviation-accidents-python-analysis)\n",
    "\n",
    "df_filtered['State'] = df_filtered['Location'].str.split(',').str[1]"
   ]
  },
  {
   "cell_type": "code",
   "execution_count": 189,
   "id": "993f4371-3594-4c2c-9438-986885b62cc3",
   "metadata": {},
   "outputs": [
    {
     "data": {
      "text/plain": [
       "State\n",
       "CA    804\n",
       "AK    751\n",
       "TX    716\n",
       "FL    688\n",
       "AZ    313\n",
       "CO    279\n",
       "GA    271\n",
       "WA    248\n",
       "NC    213\n",
       "ID    209\n",
       "NY    196\n",
       "PA    194\n",
       "OH    187\n",
       "OR    183\n",
       "MI    179\n",
       "Name: count, dtype: int64"
      ]
     },
     "execution_count": 189,
     "metadata": {},
     "output_type": "execute_result"
    }
   ],
   "source": [
    "#Getting the top 15 states with the most incidents in our data set\n",
    "df_filtered['State'].value_counts(ascending = False).head(15)"
   ]
  },
  {
   "cell_type": "code",
   "execution_count": 190,
   "id": "223eae6f-f42b-4f16-baee-f70edcada339",
   "metadata": {},
   "outputs": [
    {
     "data": {
      "text/plain": [
       "Weather.Condition\n",
       "VMC    7832\n",
       "IMC     458\n",
       "Unk      98\n",
       "Name: count, dtype: int64"
      ]
     },
     "execution_count": 190,
     "metadata": {},
     "output_type": "execute_result"
    }
   ],
   "source": [
    "# Taking a look at weather conditions\n",
    "df_filtered['Weather.Condition'].value_counts()"
   ]
  },
  {
   "cell_type": "code",
   "execution_count": 191,
   "id": "ad60cc9d-d361-49ae-99b5-c06b36a2a2cd",
   "metadata": {},
   "outputs": [
    {
     "data": {
      "text/plain": [
       "State\n",
       "CA    727\n",
       "AK    681\n",
       "TX    640\n",
       "FL    630\n",
       "AZ    293\n",
       "CO    247\n",
       "GA    236\n",
       "WA    223\n",
       "ID    198\n",
       "NC    187\n",
       "PA    176\n",
       "NY    172\n",
       "OH    172\n",
       "OR    165\n",
       "MI    158\n",
       "Name: count, dtype: int64"
      ]
     },
     "execution_count": 191,
     "metadata": {},
     "output_type": "execute_result"
    }
   ],
   "source": [
    "# Determining the states with the highest number of incidents under VMC conditions\n",
    "\n",
    "state_VMC = df_filtered['State'].loc[df_filtered['Weather.Condition'] == 'VMC']\n",
    "top_15_state_VMC = state_VMC.value_counts().head(15)\n",
    "top_15_state_VMC"
   ]
  },
  {
   "cell_type": "code",
   "execution_count": 192,
   "id": "0dbafc8c-8711-4448-8c1f-d9480689372b",
   "metadata": {},
   "outputs": [
    {
     "data": {
      "text/plain": [
       "State\n",
       "TX    39\n",
       "AK    33\n",
       "FL    30\n",
       "CA    24\n",
       "GA    23\n",
       "NC    18\n",
       "CO    16\n",
       "TN    16\n",
       "NY    15\n",
       "IL    14\n",
       "MN    13\n",
       "MO    12\n",
       "WI    12\n",
       "VA    12\n",
       "MI    12\n",
       "Name: count, dtype: int64"
      ]
     },
     "execution_count": 192,
     "metadata": {},
     "output_type": "execute_result"
    }
   ],
   "source": [
    "# Determining the states with the highest number of incidents under IMC conditions\n",
    "state_IMC = df_filtered['State'].loc[df_filtered['Weather.Condition'] == 'IMC']\n",
    "top_15_state_IMC = state_IMC.value_counts().head(15)\n",
    "top_15_state_IMC"
   ]
  },
  {
   "cell_type": "code",
   "execution_count": 197,
   "id": "e06d009f-1b8b-4ce2-ac5f-5559abb5dc0b",
   "metadata": {},
   "outputs": [
    {
     "data": {
      "text/plain": [
       "State\n",
       "CA    166\n",
       "TX    113\n",
       "FL    108\n",
       "AK     76\n",
       "GA     62\n",
       "CO     45\n",
       "AZ     37\n",
       "NC     36\n",
       "NY     35\n",
       "WA     29\n",
       "MI     29\n",
       "UT     28\n",
       "NM     28\n",
       "OH     28\n",
       "TN     28\n",
       "Name: count, dtype: int64"
      ]
     },
     "execution_count": 197,
     "metadata": {},
     "output_type": "execute_result"
    }
   ],
   "source": [
    "# Looking at fatality counts per state\n",
    "state_fatality = df_filtered['State'].loc[df_filtered['Injury.Severity'] == 'Fatal']\n",
    "state_fatality_top_15 = state_fatality.value_counts().head(15)\n",
    "state_fatality_top_15"
   ]
  },
  {
   "cell_type": "code",
   "execution_count": 199,
   "id": "6a747f20-c901-486f-a18d-4bfb0d58e83c",
   "metadata": {},
   "outputs": [
    {
     "data": {
      "text/plain": [
       "State\n",
       "AK    675\n",
       "CA    638\n",
       "TX    603\n",
       "FL    580\n",
       "AZ    276\n",
       "CO    234\n",
       "WA    219\n",
       "GA    209\n",
       "ID    186\n",
       "NC    177\n",
       "PA    175\n",
       "NY    161\n",
       "OH    159\n",
       "OR    158\n",
       "MI    150\n",
       "Name: count, dtype: int64"
      ]
     },
     "execution_count": 199,
     "metadata": {},
     "output_type": "execute_result"
    }
   ],
   "source": [
    "# Looking at non-fatality counts per state\n",
    "state_non_fatality = df_filtered['State'].loc[df_filtered['Injury.Severity'] != 'Fatal']\n",
    "state_non_fatality_top_15 = state_non_fatality.value_counts().head(15)\n",
    "state_non_fatality_top_15"
   ]
  },
  {
   "cell_type": "code",
   "execution_count": null,
   "id": "64ea0981-8dd7-4864-8856-49382d4f7999",
   "metadata": {},
   "outputs": [],
   "source": []
  }
 ],
 "metadata": {
  "kernelspec": {
   "display_name": "Python (learn-env)",
   "language": "python",
   "name": "learn-env"
  },
  "language_info": {
   "codemirror_mode": {
    "name": "ipython",
    "version": 3
   },
   "file_extension": ".py",
   "mimetype": "text/x-python",
   "name": "python",
   "nbconvert_exporter": "python",
   "pygments_lexer": "ipython3",
   "version": "3.9.18"
  }
 },
 "nbformat": 4,
 "nbformat_minor": 5
}
