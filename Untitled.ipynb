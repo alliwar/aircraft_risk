{
 "cells": [
  {
   "cell_type": "code",
   "execution_count": 1,
   "metadata": {},
   "outputs": [],
   "source": [
    "# Import modules\n",
    "import pandas as pd\n",
    "import numpy as np\n",
    "import matplotlib.pyplot as plt\n",
    "%matplotlib inline"
   ]
  },
  {
   "cell_type": "code",
   "execution_count": 3,
   "metadata": {
    "scrolled": true
   },
   "outputs": [],
   "source": [
    "# Read in the filtered dataframe\n",
    "df = pd.read_csv('Filtered_Aviation_Data.csv')"
   ]
  },
  {
   "cell_type": "code",
   "execution_count": 4,
   "metadata": {},
   "outputs": [
    {
     "name": "stdout",
     "output_type": "stream",
     "text": [
      "<class 'pandas.core.frame.DataFrame'>\n",
      "RangeIndex: 7320 entries, 0 to 7319\n",
      "Data columns (total 24 columns):\n",
      " #   Column                  Non-Null Count  Dtype  \n",
      "---  ------                  --------------  -----  \n",
      " 0   Investigation.Type      7320 non-null   object \n",
      " 1   Accident.Number         7320 non-null   object \n",
      " 2   Event.Date              7320 non-null   object \n",
      " 3   Location                7320 non-null   object \n",
      " 4   Latitude                7309 non-null   object \n",
      " 5   Longitude               7309 non-null   object \n",
      " 6   Airport.Code            5394 non-null   object \n",
      " 7   Airport.Name            5302 non-null   object \n",
      " 8   Injury.Severity         7265 non-null   object \n",
      " 9   Aircraft.damage         7116 non-null   object \n",
      " 10  Registration.Number     7318 non-null   object \n",
      " 11  Make                    7320 non-null   object \n",
      " 12  Model                   7320 non-null   object \n",
      " 13  Amateur.Built           7320 non-null   object \n",
      " 14  Number.of.Engines       6963 non-null   float64\n",
      " 15  Engine.Type             6050 non-null   object \n",
      " 16  FAR.Description         7318 non-null   object \n",
      " 17  Purpose.of.flight       6703 non-null   object \n",
      " 18  Air.carrier             2991 non-null   object \n",
      " 19  Total.Fatal.Injuries    7320 non-null   float64\n",
      " 20  Total.Serious.Injuries  7320 non-null   float64\n",
      " 21  Total.Minor.Injuries    7320 non-null   float64\n",
      " 22  Total.Uninjured         7320 non-null   float64\n",
      " 23  Weather.Condition       7001 non-null   object \n",
      "dtypes: float64(5), object(19)\n",
      "memory usage: 1.3+ MB\n"
     ]
    }
   ],
   "source": [
    "df.info()"
   ]
  },
  {
   "cell_type": "code",
   "execution_count": 9,
   "metadata": {},
   "outputs": [
    {
     "data": {
      "text/plain": [
       "Non-Fatal    5817\n",
       "Fatal        1262\n",
       "Minor         106\n",
       "Serious        80\n",
       "NaN            55\n",
       "Name: Injury.Severity, dtype: int64"
      ]
     },
     "execution_count": 9,
     "metadata": {},
     "output_type": "execute_result"
    }
   ],
   "source": [
    "df['Injury.Severity'].value_counts(dropna=False)"
   ]
  },
  {
   "cell_type": "code",
   "execution_count": null,
   "metadata": {},
   "outputs": [],
   "source": []
  }
 ],
 "metadata": {
  "kernelspec": {
   "display_name": "Python (learn-env)",
   "language": "python",
   "name": "learn-env"
  },
  "language_info": {
   "codemirror_mode": {
    "name": "ipython",
    "version": 3
   },
   "file_extension": ".py",
   "mimetype": "text/x-python",
   "name": "python",
   "nbconvert_exporter": "python",
   "pygments_lexer": "ipython3",
   "version": "3.8.5"
  }
 },
 "nbformat": 4,
 "nbformat_minor": 4
}
