{
 "cells": [
  {
   "cell_type": "markdown",
   "id": "206db0ab",
   "metadata": {},
   "source": [
    "# Something something big data on plane crashes woooo yeeeaaaaaaaaaah!!\n",
    "                                            ##### Jupyter Notebook coded by Allison Ward, Rick Lataille, and Anthony Mansion"
   ]
  },
  {
   "cell_type": "code",
   "execution_count": 3,
   "id": "94bb1f3f",
   "metadata": {},
   "outputs": [],
   "source": [
    "# Firstly, import the very useful pandas package for data analysis and manipulation\n",
    "import pandas as pd\n",
    "\n",
    "# And this is the big data that we will be using\n",
    "df = pd.read_csv('Aviation_Data.csv', low_memory=False)"
   ]
  },
  {
   "cell_type": "markdown",
   "id": "079787cb",
   "metadata": {},
   "source": [
    "## Here, we will be dropping columns we see no need for, the information isn't relevant."
   ]
  },
  {
   "cell_type": "code",
   "execution_count": null,
   "id": "c09dad68",
   "metadata": {},
   "outputs": [],
   "source": [
    "# Dropped columns... (Soon)"
   ]
  },
  {
   "cell_type": "markdown",
   "id": "a5b3ffe4",
   "metadata": {},
   "source": [
    "## As for the columns we DO need, we filter some columns for the information we need."
   ]
  },
  {
   "cell_type": "code",
   "execution_count": 16,
   "id": "2f4b2f23",
   "metadata": {},
   "outputs": [],
   "source": [
    "# Filter aircraft categories for Airplanes only (27617 rows)\n",
    "Airplanes = df.loc[df['Aircraft.Category'] == 'Airplane']\n",
    "\n",
    "\n",
    "# Filter event dates for the year 2013 and after, first turning the dates from strings to integers to do that (15829 rows)\n",
    "df['Event.Date'] = pd.to_datetime(df['Event.Date'])\n",
    "filtered_dates = df.loc[df['Event.Date'] >= '2013-01-01']\n",
    "\n",
    "# Filter the country column to be the United States only (82248  rows)\n",
    "United_States = df.loc[df['Country'] == 'United States']\n",
    "\n",
    "# Filter the purpose of flight column... (Soon)"
   ]
  }
 ],
 "metadata": {
  "kernelspec": {
   "display_name": "Python (learn-env)",
   "language": "python",
   "name": "learn-env"
  },
  "language_info": {
   "codemirror_mode": {
    "name": "ipython",
    "version": 3
   },
   "file_extension": ".py",
   "mimetype": "text/x-python",
   "name": "python",
   "nbconvert_exporter": "python",
   "pygments_lexer": "ipython3",
   "version": "3.11.5"
  }
 },
 "nbformat": 4,
 "nbformat_minor": 5
}
